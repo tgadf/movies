{
 "cells": [
  {
   "cell_type": "markdown",
   "metadata": {},
   "source": [
    "# BAFTA Functions"
   ]
  },
  {
   "cell_type": "code",
   "execution_count": 1,
   "metadata": {},
   "outputs": [
    {
     "data": {
      "text/html": [
       "<style>.container { width:100% !important; }</style>"
      ],
      "text/plain": [
       "<IPython.core.display.HTML object>"
      ]
     },
     "metadata": {},
     "output_type": "display_data"
    },
    {
     "data": {
      "text/html": [
       "<style>div.output_area{max-height:10000px;overflow:scroll;}</style>"
      ],
      "text/plain": [
       "<IPython.core.display.HTML object>"
      ]
     },
     "metadata": {},
     "output_type": "display_data"
    },
    {
     "name": "stdout",
     "output_type": "stream",
     "text": [
      "Python: 3.6.6 |Anaconda custom (64-bit)| (default, Jun 28 2018, 11:07:29) \n",
      "[GCC 4.2.1 Compatible Clang 4.0.1 (tags/RELEASE_401/final)]\n",
      "Notebook Last Run Initiated: 2019-01-07 21:21:59.589540\n"
     ]
    }
   ],
   "source": [
    "## Basic stuff\n",
    "%load_ext autoreload\n",
    "%autoreload\n",
    "from IPython.core.display import display, HTML\n",
    "display(HTML(\"<style>.container { width:100% !important; }</style>\"))\n",
    "display(HTML(\"\"\"<style>div.output_area{max-height:10000px;overflow:scroll;}</style>\"\"\"))\n",
    "\n",
    "## Python Version\n",
    "import sys\n",
    "print(\"Python: {0}\".format(sys.version))\n",
    "\n",
    "from timeUtils import clock, elapsed\n",
    "import datetime as dt\n",
    "start = dt.datetime.now()\n",
    "print(\"Notebook Last Run Initiated: \"+str(start))"
   ]
  },
  {
   "cell_type": "code",
   "execution_count": 152,
   "metadata": {
    "scrolled": false
   },
   "outputs": [],
   "source": [
    "import re\n",
    "from time import sleep\n",
    "from timeUtils import clock, elapsed\n",
    "from ioUtils import saveFile, getFile\n",
    "from fsUtils import setDir, isDir, mkDir, setFile, isFile, setSubFile\n",
    "from fileUtils import getBaseFilename\n",
    "from searchUtils import findSubPatternExt, findPatternExt, findExt\n",
    "from strUtils import convertCurrency\n",
    "from webUtils import getWebData, getHTML\n",
    "from movieDB import movieDB\n",
    "from os import getcwd\n",
    "import operator\n",
    "\n",
    "\n",
    "##############################################################################################################################\n",
    "# Box Office \n",
    "##############################################################################################################################\n",
    "class BAFTA(movieDB):\n",
    "    def __init__(self, basedir=None):\n",
    "        self.name = \"BAFTA\"\n",
    "        movieDB.__init__(self, dbdir=self.name)\n",
    "    \n",
    "    \n",
    "    ###########################################################################################################################\n",
    "    # Get BAFTA Files\n",
    "    ###########################################################################################################################\n",
    "    def downloadBAFTACategoryData(self, category, outdir, debug=False):\n",
    "\n",
    "        url  = \"https://en.wikipedia.org/wiki/BAFTA_Award_for_{0}\".format(category)\n",
    "        savename = setFile(outdir, category+\".p\")\n",
    "        if isFile(savename): return\n",
    "        if debug:\n",
    "            print(\"Downloading {0}\".format(url))\n",
    "        getWebData(base=url, savename=savename, useSafari=False)\n",
    "        sleep(1)\n",
    "\n",
    "\n",
    "    def getBAFTACategoryData(self, debug=False):\n",
    "        outdir = self.getDataDir()\n",
    "        if debug:\n",
    "            print(\"Data Directory: {0}\".format(outdir))\n",
    "        if not isDir(outdir): mkDir(outdir)\n",
    "\n",
    "        categories = [\"Best_Film\", \"Best_British_Film\", \"Best_Direction\"]\n",
    "        for category in categories:\n",
    "            self.downloadBAFTACategoryData(category, outdir, debug)\n",
    "                \n",
    "\n",
    "                \n",
    "    \n",
    "    \n",
    "    ###########################################################################################################################\n",
    "    # Parse Box Office Weekend Files\n",
    "    ###########################################################################################################################  \n",
    "    def parseBAFTAFilmData(self, table, category, debug=False):\n",
    "        filmdata = {}\n",
    "        \n",
    "        ths = table.findAll(\"th\")\n",
    "        ths = [x.text for x in ths if x is not None]\n",
    "        ths = [x.replace(\"\\n\", \"\") for x in ths]\n",
    "        \n",
    "        trs  = table.findAll(\"tr\")\n",
    "        year = None\n",
    "        for i,tr in enumerate(trs[1:]):            \n",
    "            tds = tr.findAll(\"td\")\n",
    "            if len(tds) == 1:\n",
    "                try:\n",
    "                    year = tds[0].find(\"b\").text\n",
    "                except:\n",
    "                    raise ValueError(\"Could not find year in {0}\".format(tds))\n",
    "                continue\n",
    "            else:\n",
    "                tds = [x.text for x in tds]\n",
    "                tds = [x.replace(\"\\n\", \"\") for x in tds]\n",
    "                tds = [x.strip() for x in tds]\n",
    "                #tds.insert(0, year)\n",
    "                \n",
    "            try:\n",
    "                row = dict(zip(ths, tds))\n",
    "            except:\n",
    "                raise ValueError(\"Could not zip: [{0}], [{1}]\".format(ths, tds))\n",
    "\n",
    "            if filmdata.get(year) is None:\n",
    "                filmdata[year] = {}\n",
    "            if filmdata[year].get(category) is None:\n",
    "                filmdata[year][category] = []\n",
    "\n",
    "            try:\n",
    "                movie = row[\"Film\"]\n",
    "            except:\n",
    "                raise ValueError(\"Cannot find movie in {0}\".format(row))\n",
    "\n",
    "            filmdata[year][category].append(movie)\n",
    "            \n",
    "\n",
    "            if debug:\n",
    "                print(\"{0: <10}{1: <20}{2}\".format(year,category,movie))\n",
    "                    \n",
    "        return filmdata\n",
    "    \n",
    "    \n",
    "    def parseBAFTADirectorData(self, table, category, debug=False):\n",
    "        filmdata = {}\n",
    "        \n",
    "        ths = table.findAll(\"th\")\n",
    "        ths = [x.text for x in ths if x is not None]\n",
    "        ths = [x.replace(\"\\n\", \"\") for x in ths]\n",
    "        \n",
    "        trs  = table.findAll(\"tr\")\n",
    "        year = None\n",
    "        for i,tr in enumerate(trs[1:]):\n",
    "            tds = tr.findAll(\"td\")\n",
    "            if len(tds) == 1:\n",
    "                try:\n",
    "                    year = tds[0].find(\"b\").text\n",
    "                except:\n",
    "                    raise ValueError(\"Could not find year in {0}\".format(tds))\n",
    "                continue\n",
    "            elif len(tds) == 2:\n",
    "                tds = [x.text for x in tds]\n",
    "                tds = [x.replace(\"\\n\", \"\") for x in tds]\n",
    "                tds = [x.strip() for x in tds]\n",
    "                tds.insert(0, year)\n",
    "\n",
    "            try:\n",
    "                row = dict(zip(ths, tds))\n",
    "            except:\n",
    "                raise ValueError(\"Could not zip: [{0}], [{1}]\".format(ths, tds))\n",
    "\n",
    "            if filmdata.get(year) is None:\n",
    "                filmdata[year] = {}\n",
    "            if filmdata[year].get(category) is None:\n",
    "                filmdata[year][category] = []\n",
    "\n",
    "            try:\n",
    "                movie = row[\"Film\"]\n",
    "            except:\n",
    "                raise ValueError(\"Cannot find movie in {0}\".format(row))\n",
    "\n",
    "            filmdata[year][category].append(movie)\n",
    "\n",
    "\n",
    "            if debug:\n",
    "                print(\"{0: <10}{1: <20}{2}\".format(year,category,movie))\n",
    "                    \n",
    "        return filmdata\n",
    "\n",
    "\n",
    "\n",
    "    def parseBAFTACategoryData(self, ifile, category, debug = False):\n",
    "        htmldata = getFile(ifile)\n",
    "        bsdata   = getHTML(htmldata)\n",
    "            \n",
    "        data   = {}\n",
    "        done   = False\n",
    "        tables = bsdata.findAll(\"table\", {\"class\": \"wikitable\"})\n",
    "        if debug:\n",
    "            print(\"  Found {0} tables\".format(len(tables)))\n",
    "        for table in tables:\n",
    "            if category == \"Best_Direction\":\n",
    "                yeardata = self.parseBAFTADirectorData(table, category, debug=False)\n",
    "            else:\n",
    "                yeardata = self.parseBAFTAFilmData(table, category, debug=False)\n",
    "            data = {**data, **yeardata}\n",
    "        \n",
    "        for year,yearData in data.items():\n",
    "            for category in yearData.keys():\n",
    "                data[year][category] = list(set(data[year][category]))\n",
    "        \n",
    "        return data\n",
    "\n",
    "\n",
    "\n",
    "    def processBAFTACategoryData(self, debug=False):\n",
    "        outdir = self.getDataDir()\n",
    "        files = findExt(outdir, ext=\"*Brit*.p\")\n",
    "\n",
    "        from collections import OrderedDict\n",
    "        movies = OrderedDict()\n",
    "        for ifile in files:\n",
    "            \n",
    "            if debug:\n",
    "                print(\"Processing {0}\".format(ifile))\n",
    "            category = getBaseFilename(ifile)\n",
    "            results  = self.parseBAFTACategoryData(ifile, category, debug=debug)\n",
    "            \n",
    "            if len(results) == 0:\n",
    "                raise ValueError(\"No results for {0}\".format(ifile))\n",
    "                \n",
    "\n",
    "            for year,yearData in results.items():\n",
    "                for category,categoryData in yearData.items():\n",
    "                    if movies.get(year) is None:\n",
    "                        movies[year] = []\n",
    "                    for movie in categoryData:\n",
    "                        movies[year].append(movie)\n",
    "\n",
    "        for year in movies.keys():\n",
    "            movies[year] = list(set(movies[year]))\n",
    "            yearlyMovies = movies[year]\n",
    "            movies[year] = []\n",
    "            for movie in yearlyMovies:\n",
    "                movies[year].append([movie,10])\n",
    "\n",
    "            print(movies[year])\n",
    "                \n",
    "        savename = setFile(self.getResultsDir(), \"{0}.json\".format(self.name))\n",
    "        print(\"Saving {0} Years of BAFTA Data to {1}\".format(len(movies), savename))\n",
    "        saveFile(savename, movies)\n",
    "        #yamldata.saveYaml(savename, movies)   "
   ]
  },
  {
   "cell_type": "code",
   "execution_count": null,
   "metadata": {},
   "outputs": [],
   "source": []
  },
  {
   "cell_type": "markdown",
   "metadata": {},
   "source": [
    "# Get/Parse/Merge/Process Wikipedia Data"
   ]
  },
  {
   "cell_type": "code",
   "execution_count": 153,
   "metadata": {},
   "outputs": [
    {
     "name": "stdout",
     "output_type": "stream",
     "text": [
      "Current Time is Mon Jan 07, 2019 23:20:01 for Last Run\n"
     ]
    }
   ],
   "source": [
    "baf = BAFTA()\n",
    "_, _ = clock(\"Last Run\")"
   ]
  },
  {
   "cell_type": "code",
   "execution_count": 154,
   "metadata": {
    "scrolled": true
   },
   "outputs": [],
   "source": [
    "#baf.getBAFTACategoryData(debug=True)"
   ]
  },
  {
   "cell_type": "code",
   "execution_count": 155,
   "metadata": {
    "scrolled": false
   },
   "outputs": [
    {
     "name": "stdout",
     "output_type": "stream",
     "text": [
      "Processing /Users/tgadfort/Documents/code/movies/BAFTA/data/Best_British_Film.p\n",
      "  Found 6 tables\n",
      "[['Odd Man Out', 10]]\n",
      "[['The Small Voice', 10], ['Oliver Twist', 10], ['Hamlet', 10], ['Scott of the Antarctic', 10], ['Once a Jolly Swagman', 10], ['The Red Shoes', 10], ['The Fallen Idol', 10]]\n",
      "[['The Queen of Spades', 10], ['A Run for Your Money', 10], ['The Third Man', 10], ['The Small Back Room', 10], ['Whisky Galore!', 10], ['Kind Hearts and Coronets', 10], ['Passport to Pimlico', 10]]\n",
      "[['Morning Departure', 10], ['The Blue Lamp', 10], ['State Secret', 10], ['Chance of a Lifetime', 10], ['Seven Days to Noon', 10], ['The Wooden Horse', 10]]\n",
      "[['The Browning Version', 10], ['The Small Miracle', 10], ['The Man in the White Suit', 10], ['The Magic Box', 10], ['The Lavender Hill Mob', 10], ['The Magic Garden', 10], ['White Corridors', 10], ['No Resting Place', 10]]\n",
      "[['Mandy', 10], ['The River', 10], ['Angels One Five', 10], ['Cry, the Beloved Country', 10], ['The Sound Barrier', 10], ['Outcast of the Islands', 10]]\n",
      "[['The Heart of the Matter', 10], ['Moulin Rouge', 10], ['The Cruel Sea', 10], ['The Kidnappers', 10], ['Genevieve', 10]]\n",
      "[['The Purple Plain', 10], ['Carrington V.C.', 10], ['Romeo and Juliet', 10], ['The Maggie', 10], ['The Divided Heart', 10], [\"Hobson's Choice\", 10], ['For Better, for Worse', 10], ['Doctor in the House', 10]]\n",
      "[['The Dam Busters', 10], ['The Night My Number Came Up', 10], ['Simba', 10], ['The Ladykillers', 10], ['The Prisoner', 10], ['Richard III', 10], ['The Colditz Story', 10]]\n",
      "[['A Town Like Alice', 10], ['Reach for the Sky', 10], ['Yield to the Night', 10], ['The Man Who Never Was', 10], ['The Battle of the River Plate', 10]]\n",
      "[[\"Windom's Way\", 10], ['The Prince and the Showgirl', 10], ['The Shiralee', 10], ['The Bridge on the River Kwai', 10]]\n",
      "[['Ice Cold in Alex', 10], ['Indiscreet', 10], ['Room at the Top', 10], ['Sea of Sand', 10], ['Orders to Kill', 10]]\n",
      "[['North West Frontier', 10], [\"Yesterday's Enemy\", 10], ['Look Back in Anger', 10], ['Sapphire', 10], ['Tiger Bay', 10]]\n",
      "[['Saturday Night and Sunday Morning', 10], ['The Trials of Oscar Wilde', 10], ['The Angry Silence', 10], ['Tunes of Glory', 10]]\n",
      "[['Whistle Down the Wind', 10], ['The Long and the Short and the Tall', 10], ['A Taste of Honey', 10], ['The Innocents', 10], ['The Sundowners', 10]]\n",
      "[['Lawrence of Arabia', 10], ['A Kind of Loving', 10], ['The L-Shaped Room', 10], ['Only Two Can Play', 10], ['Billy Budd', 10]]\n",
      "[['Billy Liar', 10], ['Tom Jones', 10], ['The Servant', 10], ['This Sporting Life', 10]]\n",
      "[['The Train', 10], ['The Pumpkin Eater', 10], ['Becket', 10], ['Dr. Strangelove or: How I Learned to Stop Worrying and Love the Bomb', 10]]\n",
      "[['The Hill', 10], ['The IPCRESS File', 10], ['The Knack ...and How to Get It', 10], ['Darling', 10]]\n",
      "[['Morgan – A Suitable Case for Treatment', 10], ['Alfie', 10], ['Georgy Girl', 10], ['The Spy Who Came in from the Cold', 10]]\n",
      "[['The Deadly Affair', 10], ['Accident', 10], ['A Man For All Seasons', 10], ['Blow-Up', 10]]\n",
      "[['The Crying Game', 10]]\n",
      "[['Raining Stones', 10], ['Shadowlands', 10], ['Tom & Viv', 10], ['Naked', 10]]\n",
      "[['Bhaji on the Beach', 10], ['Backbeat', 10], ['Priest', 10], ['Shallow Grave', 10]]\n",
      "[['Carrington', 10], ['Trainspotting', 10], ['Land and Freedom', 10], ['The Madness of King George', 10]]\n",
      "[['Secrets & Lies', 10], ['Brassed Off', 10], [\"Carla's Song\", 10], ['Richard III', 10]]\n",
      "[['Twenty Four Seven', 10], ['Mrs Brown', 10], ['Nil by Mouth', 10], ['The Full Monty', 10], ['Regeneration', 10], ['The Borrowers', 10]]\n",
      "[['Hilary and Jackie', 10], ['Elizabeth', 10], ['Lock, Stock and Two Smoking Barrels', 10], ['Sliding Doors', 10], ['Little Voice', 10]]\n",
      "[['Topsy-Turvy', 10], ['Wonderland', 10], ['Notting Hill', 10], ['Onegin', 10], ['Ratcatcher', 10], ['East Is East', 10]]\n",
      "[['The House of Mirth', 10], ['Billy Elliot', 10], ['Sexy Beast', 10], ['Last Resort', 10], ['Chicken Run', 10]]\n",
      "[[\"Harry Potter and the Philosopher's Stone\", 10], ['Iris', 10], ['Me Without You', 10], ['Gosford Park', 10], [\"Bridget Jones's Diary\", 10]]\n",
      "[['The Warrior', 10], ['Bend It Like Beckham', 10], ['Dirty Pretty Things', 10], ['The Magdalene Sisters', 10], ['The Hours', 10]]\n",
      "[['Cold Mountain', 10], ['Girl with a Pearl Earring', 10], ['Touching the Void', 10], ['In This World', 10], ['Love Actually', 10]]\n",
      "[['Shaun of the Dead', 10], ['Harry Potter and the Prisoner of Azkaban', 10], ['Vera Drake', 10], ['My Summer of Love', 10], [\"Dead Man's Shoes\", 10]]\n",
      "[['Wallace & Gromit: The Curse of the Were-Rabbit', 10], ['Festival', 10], ['The Constant Gardener', 10], ['A Cock and Bull Story', 10], ['Pride & Prejudice', 10]]\n",
      "[['Notes on a Scandal', 10], ['The Queen', 10], ['United 93', 10], ['The Last King of Scotland', 10], ['Casino Royale', 10]]\n",
      "[['Eastern Promises', 10], ['This Is England', 10], ['Atonement', 10], ['The Bourne Ultimatum', 10], ['Control', 10]]\n",
      "[['Mamma Mia!', 10], ['Slumdog Millionaire', 10], ['Hunger', 10], ['In Bruges', 10], ['Man on Wire', 10]]\n",
      "[['Nowhere Boy', 10], ['Fish Tank', 10], ['An Education', 10], ['Moon', 10], ['In the Loop', 10]]\n",
      "[['Made in Dagenham', 10], ['127 Hours', 10], ['Another Year', 10], [\"The King's Speech\", 10], ['Four Lions', 10]]\n",
      "[['We Need to Talk About Kevin', 10], ['My Week with Marilyn', 10], ['Tinker Tailor Soldier Spy', 10], ['Shame', 10], ['Senna', 10]]\n",
      "[['The Best Exotic Marigold Hotel', 10], ['Les Misérables', 10], ['Skyfall', 10], ['Seven Psychopaths', 10], ['Anna Karenina', 10]]\n",
      "[['Gravity', 10], ['Rush', 10], ['Philomena', 10], ['The Selfish Giant', 10], ['Mandela: Long Walk to Freedom', 10], ['Saving Mr. Banks', 10]]\n",
      "[['Paddington', 10], ['The Imitation Game', 10], ['Pride', 10], ['The Theory of Everything', 10], [\"'71\", 10], ['Under the Skin', 10]]\n",
      "[['The Danish Girl', 10], ['45 Years', 10], ['The Lobster', 10], ['Ex Machina', 10], ['Brooklyn', 10], ['Amy', 10]]\n",
      "[['Denial', 10], ['Fantastic Beasts and Where to Find Them', 10], ['Notes on Blindness', 10], ['Under the Shadow', 10], ['American Honey', 10], ['I, Daniel Blake', 10]]\n",
      "[['Darkest Hour', 10], ['The Death of Stalin', 10], [\"God's Own Country\", 10], ['Lady Macbeth', 10], ['Paddington 2', 10], ['Three Billboards Outside Ebbing, Missouri', 10]]\n",
      "Saving 47 Years of BAFTA Data to /Users/tgadfort/Documents/code/movies/BAFTA/results/BAFTA.json\n"
     ]
    }
   ],
   "source": [
    "baf.processBAFTACategoryData(debug=True)"
   ]
  },
  {
   "cell_type": "code",
   "execution_count": null,
   "metadata": {},
   "outputs": [],
   "source": []
  },
  {
   "cell_type": "code",
   "execution_count": null,
   "metadata": {},
   "outputs": [],
   "source": []
  }
 ],
 "metadata": {
  "kernelspec": {
   "display_name": "Python 3",
   "language": "python",
   "name": "python3"
  },
  "language_info": {
   "codemirror_mode": {
    "name": "ipython",
    "version": 3
   },
   "file_extension": ".py",
   "mimetype": "text/x-python",
   "name": "python",
   "nbconvert_exporter": "python",
   "pygments_lexer": "ipython3",
   "version": "3.6.6"
  }
 },
 "nbformat": 4,
 "nbformat_minor": 2
}
