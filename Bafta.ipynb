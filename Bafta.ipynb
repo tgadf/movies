{
 "cells": [
  {
   "cell_type": "markdown",
   "metadata": {},
   "source": [
    "# BAFTA Functions"
   ]
  },
  {
   "cell_type": "code",
   "execution_count": 6,
   "metadata": {},
   "outputs": [
    {
     "name": "stdout",
     "output_type": "stream",
     "text": [
      "The autoreload extension is already loaded. To reload it, use:\n",
      "  %reload_ext autoreload\n"
     ]
    },
    {
     "data": {
      "text/html": [
       "<style>.container { width:100% !important; }</style>"
      ],
      "text/plain": [
       "<IPython.core.display.HTML object>"
      ]
     },
     "metadata": {},
     "output_type": "display_data"
    },
    {
     "data": {
      "text/html": [
       "<style>div.output_area{max-height:10000px;overflow:scroll;}</style>"
      ],
      "text/plain": [
       "<IPython.core.display.HTML object>"
      ]
     },
     "metadata": {},
     "output_type": "display_data"
    },
    {
     "name": "stdout",
     "output_type": "stream",
     "text": [
      "Python: 3.6.6 |Anaconda custom (64-bit)| (default, Jun 28 2018, 11:07:29) \n",
      "[GCC 4.2.1 Compatible Clang 4.0.1 (tags/RELEASE_401/final)]\n",
      "Notebook Last Run Initiated: 2019-01-10 19:14:22.631833\n"
     ]
    }
   ],
   "source": [
    "## Basic stuff\n",
    "%load_ext autoreload\n",
    "%autoreload\n",
    "from IPython.core.display import display, HTML\n",
    "display(HTML(\"<style>.container { width:100% !important; }</style>\"))\n",
    "display(HTML(\"\"\"<style>div.output_area{max-height:10000px;overflow:scroll;}</style>\"\"\"))\n",
    "\n",
    "## Python Version\n",
    "import sys\n",
    "print(\"Python: {0}\".format(sys.version))\n",
    "\n",
    "from BAFTA import BAFTA\n",
    "\n",
    "from timeUtils import clock, elapsed\n",
    "import datetime as dt\n",
    "start = dt.datetime.now()\n",
    "print(\"Notebook Last Run Initiated: \"+str(start))"
   ]
  },
  {
   "cell_type": "code",
   "execution_count": 2,
   "metadata": {
    "scrolled": false
   },
   "outputs": [],
   "source": []
  },
  {
   "cell_type": "code",
   "execution_count": null,
   "metadata": {},
   "outputs": [],
   "source": []
  },
  {
   "cell_type": "markdown",
   "metadata": {},
   "source": [
    "# Get/Parse/Merge/Process Wikipedia Data"
   ]
  },
  {
   "cell_type": "code",
   "execution_count": 3,
   "metadata": {},
   "outputs": [
    {
     "name": "stdout",
     "output_type": "stream",
     "text": [
      "Current Time is Thu Jan 10, 2019 19:12:20 for Last Run\n"
     ]
    }
   ],
   "source": [
    "baf = BAFTA()\n",
    "_, _ = clock(\"Last Run\")"
   ]
  },
  {
   "cell_type": "code",
   "execution_count": 4,
   "metadata": {
    "scrolled": true
   },
   "outputs": [],
   "source": [
    "#baf.getBAFTACategoryData(debug=True)"
   ]
  },
  {
   "cell_type": "code",
   "execution_count": 5,
   "metadata": {
    "scrolled": false
   },
   "outputs": [
    {
     "name": "stdout",
     "output_type": "stream",
     "text": [
      "Processing /Users/tgadfort/Documents/code/movies/BAFTA/data/Best_British_Film.p\n",
      "  Found 6 tables\n",
      "[['Odd Man Out', 10]]\n",
      "[['Oliver Twist', 10], ['The Small Voice', 10], ['Scott of the Antarctic', 10], ['The Red Shoes', 10], ['Hamlet', 10], ['Once a Jolly Swagman', 10], ['The Fallen Idol', 10]]\n",
      "[['Kind Hearts and Coronets', 10], ['The Small Back Room', 10], ['A Run for Your Money', 10], ['The Queen of Spades', 10], ['The Third Man', 10], ['Whisky Galore!', 10], ['Passport to Pimlico', 10]]\n",
      "[['State Secret', 10], ['Seven Days to Noon', 10], ['The Blue Lamp', 10], ['The Wooden Horse', 10], ['Morning Departure', 10], ['Chance of a Lifetime', 10]]\n",
      "[['No Resting Place', 10], ['The Small Miracle', 10], ['The Magic Box', 10], ['The Man in the White Suit', 10], ['The Lavender Hill Mob', 10], ['The Browning Version', 10], ['The Magic Garden', 10], ['White Corridors', 10]]\n",
      "[['Angels One Five', 10], ['The River', 10], ['The Sound Barrier', 10], ['Cry, the Beloved Country', 10], ['Mandy', 10], ['Outcast of the Islands', 10]]\n",
      "[['The Heart of the Matter', 10], ['The Cruel Sea', 10], ['Genevieve', 10], ['The Kidnappers', 10], ['Moulin Rouge', 10]]\n",
      "[['The Maggie', 10], ['Romeo and Juliet', 10], [\"Hobson's Choice\", 10], ['Doctor in the House', 10], ['For Better, for Worse', 10], ['Carrington V.C.', 10], ['The Divided Heart', 10], ['The Purple Plain', 10]]\n",
      "[['The Colditz Story', 10], ['Simba', 10], ['The Dam Busters', 10], ['Richard III', 10], ['The Prisoner', 10], ['The Ladykillers', 10], ['The Night My Number Came Up', 10]]\n",
      "[['A Town Like Alice', 10], ['Reach for the Sky', 10], ['Yield to the Night', 10], ['The Man Who Never Was', 10], ['The Battle of the River Plate', 10]]\n",
      "[['The Prince and the Showgirl', 10], [\"Windom's Way\", 10], ['The Shiralee', 10], ['The Bridge on the River Kwai', 10]]\n",
      "[['Room at the Top', 10], ['Ice Cold in Alex', 10], ['Sea of Sand', 10], ['Orders to Kill', 10], ['Indiscreet', 10]]\n",
      "[['Tiger Bay', 10], ['Look Back in Anger', 10], [\"Yesterday's Enemy\", 10], ['Sapphire', 10], ['North West Frontier', 10]]\n",
      "[['The Trials of Oscar Wilde', 10], ['Saturday Night and Sunday Morning', 10], ['The Angry Silence', 10], ['Tunes of Glory', 10]]\n",
      "[['The Long and the Short and the Tall', 10], ['The Sundowners', 10], ['Whistle Down the Wind', 10], ['The Innocents', 10], ['A Taste of Honey', 10]]\n",
      "[['Lawrence of Arabia', 10], ['Billy Budd', 10], ['Only Two Can Play', 10], ['A Kind of Loving', 10], ['The L-Shaped Room', 10]]\n",
      "[['Tom Jones', 10], ['The Servant', 10], ['Billy Liar', 10], ['This Sporting Life', 10]]\n",
      "[['The Pumpkin Eater', 10], ['The Train', 10], ['Dr. Strangelove or: How I Learned to Stop Worrying and Love the Bomb', 10], ['Becket', 10]]\n",
      "[['Darling', 10], ['The Knack ...and How to Get It', 10], ['The Hill', 10], ['The IPCRESS File', 10]]\n",
      "[['Morgan – A Suitable Case for Treatment', 10], ['Alfie', 10], ['The Spy Who Came in from the Cold', 10], ['Georgy Girl', 10]]\n",
      "[['Accident', 10], ['A Man For All Seasons', 10], ['Blow-Up', 10], ['The Deadly Affair', 10]]\n",
      "[['The Crying Game', 10]]\n",
      "[['Shadowlands', 10], ['Tom & Viv', 10], ['Naked', 10], ['Raining Stones', 10]]\n",
      "[['Backbeat', 10], ['Bhaji on the Beach', 10], ['Shallow Grave', 10], ['Priest', 10]]\n",
      "[['Land and Freedom', 10], ['Carrington', 10], ['Trainspotting', 10], ['The Madness of King George', 10]]\n",
      "[[\"Carla's Song\", 10], ['Secrets & Lies', 10], ['Brassed Off', 10], ['Richard III', 10]]\n",
      "[['Twenty Four Seven', 10], ['Nil by Mouth', 10], ['The Borrowers', 10], ['The Full Monty', 10], ['Regeneration', 10], ['Mrs Brown', 10]]\n",
      "[['Sliding Doors', 10], ['Hilary and Jackie', 10], ['Elizabeth', 10], ['Little Voice', 10], ['Lock, Stock and Two Smoking Barrels', 10]]\n",
      "[['Onegin', 10], ['East Is East', 10], ['Notting Hill', 10], ['Wonderland', 10], ['Ratcatcher', 10], ['Topsy-Turvy', 10]]\n",
      "[['Chicken Run', 10], ['Sexy Beast', 10], ['The House of Mirth', 10], ['Billy Elliot', 10], ['Last Resort', 10]]\n",
      "[['Iris', 10], ['Gosford Park', 10], [\"Harry Potter and the Philosopher's Stone\", 10], ['Me Without You', 10], [\"Bridget Jones's Diary\", 10]]\n",
      "[['The Hours', 10], ['The Magdalene Sisters', 10], ['Bend It Like Beckham', 10], ['Dirty Pretty Things', 10], ['The Warrior', 10]]\n",
      "[['In This World', 10], ['Love Actually', 10], ['Cold Mountain', 10], ['Touching the Void', 10], ['Girl with a Pearl Earring', 10]]\n",
      "[['Harry Potter and the Prisoner of Azkaban', 10], ['Vera Drake', 10], ['My Summer of Love', 10], ['Shaun of the Dead', 10], [\"Dead Man's Shoes\", 10]]\n",
      "[['A Cock and Bull Story', 10], ['Wallace & Gromit: The Curse of the Were-Rabbit', 10], ['The Constant Gardener', 10], ['Festival', 10], ['Pride & Prejudice', 10]]\n",
      "[['Notes on a Scandal', 10], ['The Last King of Scotland', 10], ['Casino Royale', 10], ['The Queen', 10], ['United 93', 10]]\n",
      "[['Atonement', 10], ['The Bourne Ultimatum', 10], ['Control', 10], ['Eastern Promises', 10], ['This Is England', 10]]\n",
      "[['Hunger', 10], ['Mamma Mia!', 10], ['In Bruges', 10], ['Man on Wire', 10], ['Slumdog Millionaire', 10]]\n",
      "[['An Education', 10], ['In the Loop', 10], ['Fish Tank', 10], ['Nowhere Boy', 10], ['Moon', 10]]\n",
      "[['Another Year', 10], ['Four Lions', 10], ['Made in Dagenham', 10], [\"The King's Speech\", 10], ['127 Hours', 10]]\n",
      "[['We Need to Talk About Kevin', 10], ['Tinker Tailor Soldier Spy', 10], ['My Week with Marilyn', 10], ['Senna', 10], ['Shame', 10]]\n",
      "[['Seven Psychopaths', 10], ['Anna Karenina', 10], ['Skyfall', 10], ['Les Misérables', 10], ['The Best Exotic Marigold Hotel', 10]]\n",
      "[['Mandela: Long Walk to Freedom', 10], ['Saving Mr. Banks', 10], ['Gravity', 10], ['Philomena', 10], ['The Selfish Giant', 10], ['Rush', 10]]\n",
      "[['Under the Skin', 10], ['Paddington', 10], [\"'71\", 10], ['The Imitation Game', 10], ['The Theory of Everything', 10], ['Pride', 10]]\n",
      "[['The Danish Girl', 10], ['Brooklyn', 10], ['The Lobster', 10], ['45 Years', 10], ['Ex Machina', 10], ['Amy', 10]]\n",
      "[['Under the Shadow', 10], ['Notes on Blindness', 10], ['I, Daniel Blake', 10], ['Fantastic Beasts and Where to Find Them', 10], ['American Honey', 10], ['Denial', 10]]\n",
      "[['Paddington 2', 10], ['Lady Macbeth', 10], ['Darkest Hour', 10], [\"God's Own Country\", 10], ['The Death of Stalin', 10], ['Three Billboards Outside Ebbing, Missouri', 10]]\n",
      "Saving 47 Years of BAFTA Data to /Users/tgadfort/Documents/code/movies/BAFTA/results/BAFTA.json\n"
     ]
    }
   ],
   "source": [
    "baf.processBAFTACategoryData(debug=True)"
   ]
  },
  {
   "cell_type": "code",
   "execution_count": null,
   "metadata": {},
   "outputs": [],
   "source": []
  },
  {
   "cell_type": "code",
   "execution_count": null,
   "metadata": {},
   "outputs": [],
   "source": []
  }
 ],
 "metadata": {
  "kernelspec": {
   "display_name": "Python 3",
   "language": "python",
   "name": "python3"
  },
  "language_info": {
   "codemirror_mode": {
    "name": "ipython",
    "version": 3
   },
   "file_extension": ".py",
   "mimetype": "text/x-python",
   "name": "python",
   "nbconvert_exporter": "python",
   "pygments_lexer": "ipython3",
   "version": "3.6.6"
  }
 },
 "nbformat": 4,
 "nbformat_minor": 2
}
