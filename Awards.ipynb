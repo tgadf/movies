{
 "cells": [
  {
   "cell_type": "code",
   "execution_count": 1,
   "metadata": {},
   "outputs": [
    {
     "data": {
      "text/html": [
       "<style>.container { width:100% !important; }</style>"
      ],
      "text/plain": [
       "<IPython.core.display.HTML object>"
      ]
     },
     "metadata": {},
     "output_type": "display_data"
    },
    {
     "data": {
      "text/html": [
       "<style>div.output_area{max-height:10000px;overflow:scroll;}</style>"
      ],
      "text/plain": [
       "<IPython.core.display.HTML object>"
      ]
     },
     "metadata": {},
     "output_type": "display_data"
    },
    {
     "name": "stdout",
     "output_type": "stream",
     "text": [
      "Python: 3.7.3 (default, Mar 27 2019, 16:54:48) \n",
      "[Clang 4.0.1 (tags/RELEASE_401/final)]\n",
      "Notebook Last Run Initiated: 2019-11-01 10:32:16.116339\n"
     ]
    }
   ],
   "source": [
    "## Basic stuff\n",
    "%load_ext autoreload\n",
    "%autoreload\n",
    "from IPython.core.display import display, HTML\n",
    "display(HTML(\"<style>.container { width:100% !important; }</style>\"))\n",
    "display(HTML(\"\"\"<style>div.output_area{max-height:10000px;overflow:scroll;}</style>\"\"\"))\n",
    "\n",
    "## Python Version\n",
    "import sys\n",
    "print(\"Python: {0}\".format(sys.version))\n",
    "\n",
    "from combine import combine\n",
    "from fsUtils import moveFile\n",
    "from ioUtils import getFile\n",
    "from timeUtils import clock, elapsed\n",
    "from pandas import DataFrame, Series, read_csv\n",
    "\n",
    "\n",
    "import datetime as dt\n",
    "start = dt.datetime.now()\n",
    "print(\"Notebook Last Run Initiated: \"+str(start))"
   ]
  },
  {
   "cell_type": "code",
   "execution_count": 118,
   "metadata": {},
   "outputs": [],
   "source": [
    "oscarsURL = \"https://www.imdb.com/oscars/nominations/?ref_=ev_all\"\n",
    "baftasURL = \"https://www.imdb.com/awards-central/baftas/?ref_=ev_all\"\n",
    "goldenglobesURL = \"https://www.imdb.com/golden-globes/nominations/?ref_=ev_all\"\n",
    "sagURL = \"https://www.imdb.com/event/ev0000598/2019/1\"\n",
    "cannesURL = \"https://www.imdb.com/event/ev0000147/2019/1\"\n",
    "bodilURL = \"https://www.imdb.com/event/ev0000107/2019/1\"\n",
    "torontoURL = \"https://www.imdb.com/event/ev0000659/2019/1\"\n",
    "sundanceURL = \"https://www.imdb.com/event/ev0000631/2019/1\"\n",
    "soundURL = \"https://www.imdb.com/event/ev0000452/2019/1\"\n",
    "teenURL = \"https://www.imdb.com/event/ev0000644/2019/1\""
   ]
  },
  {
   "cell_type": "code",
   "execution_count": 119,
   "metadata": {},
   "outputs": [
    {
     "name": "stdout",
     "output_type": "stream",
     "text": [
      "Downloading https://www.imdb.com/event/ev0000644/2019/1\n",
      "  --> This file is 44.9kB.\n",
      "awards/IMDB_teen_base.p size -> 45 kB\n"
     ]
    },
    {
     "data": {
      "text/plain": [
       "True"
      ]
     },
     "execution_count": 119,
     "metadata": {},
     "output_type": "execute_result"
    }
   ],
   "source": [
    "from webUtils import getWebData\n",
    "\n",
    "url      = oscarsURL\n",
    "savename = \"awards/IMDB_oscars_base.p\"\n",
    "#getWebData(base=url, savename=savename, useSafari=False, debug=True)\n",
    "\n",
    "url      = baftasURL\n",
    "savename = \"awards/IMDB_baftas_base.p\"\n",
    "#getWebData(base=url, savename=savename, useSafari=False, debug=True)\n",
    "\n",
    "url      = goldenglobesURL\n",
    "savename = \"awards/IMDB_goldenglobes_base.p\"\n",
    "#getWebData(base=url, savename=savename, useSafari=False, debug=True)\n",
    "\n",
    "url      = sagURL\n",
    "savename = \"awards/IMDB_sag_base.p\"\n",
    "#getWebData(base=url, savename=savename, useSafari=False, debug=True)\n",
    "\n",
    "url      = cannesURL\n",
    "savename = \"awards/IMDB_cannes_base.p\"\n",
    "#getWebData(base=url, savename=savename, useSafari=False, debug=True)\n",
    "\n",
    "url      = bodilURL\n",
    "savename = \"awards/IMDB_bodil_base.p\"\n",
    "#getWebData(base=url, savename=savename, useSafari=False, debug=True)\n",
    "\n",
    "url      = torontoURL\n",
    "savename = \"awards/IMDB_toronto_base.p\"\n",
    "#getWebData(base=url, savename=savename, useSafari=False, debug=True)\n",
    "\n",
    "url      = sundanceURL\n",
    "savename = \"awards/IMDB_sundance_base.p\"\n",
    "#getWebData(base=url, savename=savename, useSafari=False, debug=True)\n",
    "\n",
    "url      = soundURL\n",
    "savename = \"awards/IMDB_sound_base.p\"\n",
    "#getWebData(base=url, savename=savename, useSafari=False, debug=True)\n",
    "\n",
    "url      = teenURL\n",
    "savename = \"awards/IMDB_teen_base.p\"\n",
    "getWebData(base=url, savename=savename, useSafari=False, debug=True)"
   ]
  },
  {
   "cell_type": "markdown",
   "metadata": {},
   "source": [
    "# Parse Data"
   ]
  },
  {
   "cell_type": "code",
   "execution_count": 102,
   "metadata": {},
   "outputs": [],
   "source": [
    "#from webUtils import getHTML\n",
    "#oscarsData = getHTML(\"awards/IMDB_oscars_base.p\")"
   ]
  },
  {
   "cell_type": "code",
   "execution_count": 144,
   "metadata": {},
   "outputs": [],
   "source": [
    "from time import sleep\n",
    "import json\n",
    "from searchUtils import findPatternExt\n",
    "\n",
    "\n",
    "movieMap = {\"baftas\": \"BAFTA Film Award\", \"oscars\": \"Oscars\", \"sag\": \"Actor\", \"teen\": \"Teen Choice Award\", \"sound\": \"Golden Reel Award\", \"toronto\": \"People's Choice Award\", \"sundance\": \"Grand Jury Prize\", \"cannes\": \"Palme d'Or\", \"bodil\": \"Bodil\"}\n",
    "\n",
    "\n",
    "def getPageData(data, awardsName):\n",
    "    dd = data[\"nomineesWidgetModel\"]['eventEditionSummary']\n",
    "    awards = dd['awards']\n",
    "    year   = dd['year']\n",
    "    \n",
    "    dataname = movieMap.get(awardsName)\n",
    "    \n",
    "    awardsData = {}\n",
    "    for award in awards:\n",
    "        if award['awardName'] != dataname:\n",
    "            continue\n",
    "        for category in award['categories']:\n",
    "            name     = category[\"categoryName\"]\n",
    "            nominees = category[\"nominations\"]\n",
    "            categoryData = {\"Winner\": [], \"Nominees\": []}\n",
    "            for nominee in nominees:\n",
    "                primary   = nominee['primaryNominees']\n",
    "                secondary = nominee['secondaryNominees']\n",
    "                isWinner  = nominee['isWinner']\n",
    "\n",
    "                primaryData   = [x['name'] for x in primary]\n",
    "                secondaryData = [x['name'] for x in secondary]\n",
    "                catData = {\"Primary\": primaryData, \"Secondary\": secondaryData}\n",
    "                if isWinner is True:\n",
    "                    categoryData[\"Winner\"].append(catData)\n",
    "                else:\n",
    "                    categoryData[\"Nominees\"].append(catData)\n",
    "\n",
    "            awardsData[name] = categoryData\n",
    "            \n",
    "    retval = {year: awardsData}\n",
    "    return retval\n",
    "\n",
    "def parseOscarsData(awardsName=\"oscars\"):\n",
    "\n",
    "    awardsData = {}\n",
    "    files = findPatternExt(\"awards\", pattern=\"IMDB_{0}_\".format(awardsName), ext=\".p\")\n",
    "    #print(\"Found {0} files\".format(len(files)))\n",
    "    for oscarsFile in files:\n",
    "        if \"base.p\" in oscarsFile:\n",
    "            continue\n",
    "            \n",
    "        oscarsData = getHTML(oscarsFile)\n",
    "        for sdata in oscarsData.findAll(\"script\", {\"type\": \"text/javascript\"}):\n",
    "\n",
    "            txt = sdata.text\n",
    "            pos = txt.find(\"IMDbReactWidgets.NomineesWidget.push\")\n",
    "            if pos == -1:\n",
    "                continue\n",
    "            start = pos + len(\"IMDbReactWidgets.NomineesWidget.push(\")\n",
    "            end   = txt.rfind(\"]);\") + 1\n",
    "\n",
    "            txtdata = txt[start:end]\n",
    "            try:\n",
    "                data = json.loads(txtdata[len(\"['center-8-react',\"):-1])\n",
    "            except:\n",
    "                raise ValueError(\"Cannot find dictionary in data!!!\")\n",
    "\n",
    "            retval = getPageData(data, awardsName)\n",
    "            awardsData.update(retval)\n",
    "    return awardsData\n",
    "    \n",
    "    \n",
    "def getOscarsData(awardsName=\"oscars\"):\n",
    "    awardsData = {}\n",
    "    \n",
    "    oscarsData = getHTML(\"awards/IMDB_{0}_base.p\".format(awardsName))\n",
    "    for sdata in oscarsData.findAll(\"script\", {\"type\": \"text/javascript\"}):\n",
    "\n",
    "        txt = sdata.text\n",
    "        pos = txt.find(\"IMDbReactWidgets.EventHistoryWidget.push\")\n",
    "        if pos == -1:\n",
    "            continue\n",
    "        start = pos + len(\"IMDbReactWidgets.EventHistoryWidget.push(\")\n",
    "        end   = txt.rfind(\"]);\") + 1\n",
    "\n",
    "        txtdata = txt[start:end]\n",
    "        try:\n",
    "            data = json.loads(txtdata[len(\"['right-1-react',\"):-1])\n",
    "        except:\n",
    "            raise ValueError(\"Cannot find dictionary in data!!!\")\n",
    "\n",
    "        eventID = data['eventHistoryWidgetModel']['eventId']\n",
    "        for event in data['eventHistoryWidgetModel']['eventEditions']:\n",
    "            #eventID  = event['eventEditionId']\n",
    "            year     = event['year']\n",
    "\n",
    "            #url      = \"https://www.imdb.com/event/ev0000003/2018/1/\n",
    "            url      = \"https://www.imdb.com/event/{0}/{1}/1/\".format(eventID, year)\n",
    "            savename = \"awards/IMDB_{0}_{1}.p\".format(awardsName, year)\n",
    "            try:\n",
    "                getWebData(base=url, savename=savename, useSafari=False, debug=True)        \n",
    "                sleep(1.5)\n",
    "            except:\n",
    "                break\n",
    "    \n",
    "    #retval = getPageData(data)\n",
    "    #awardsData.update(retval)\n",
    "    #print(len(awardsData))\n",
    "    \n",
    "    print(\"\\n\\n\\n\")"
   ]
  },
  {
   "cell_type": "code",
   "execution_count": 142,
   "metadata": {},
   "outputs": [],
   "source": [
    "#getOscarsData(\"teen\")\n",
    "#parseOscarsData()"
   ]
  },
  {
   "cell_type": "code",
   "execution_count": 147,
   "metadata": {},
   "outputs": [],
   "source": [
    "eventData = {}\n",
    "for event in movieMap.keys():\n",
    "    eventData[event] = parseOscarsData(event)"
   ]
  },
  {
   "cell_type": "code",
   "execution_count": 148,
   "metadata": {},
   "outputs": [],
   "source": [
    "from ioUtils import getFile, saveFile"
   ]
  },
  {
   "cell_type": "code",
   "execution_count": null,
   "metadata": {},
   "outputs": [],
   "source": [
    "saveFile(idata=eventData, ifile=\"awards\")"
   ]
  }
 ],
 "metadata": {
  "kernelspec": {
   "display_name": "Python 3",
   "language": "python",
   "name": "python3"
  },
  "language_info": {
   "codemirror_mode": {
    "name": "ipython",
    "version": 3
   },
   "file_extension": ".py",
   "mimetype": "text/x-python",
   "name": "python",
   "nbconvert_exporter": "python",
   "pygments_lexer": "ipython3",
   "version": "3.7.3"
  }
 },
 "nbformat": 4,
 "nbformat_minor": 2
}
