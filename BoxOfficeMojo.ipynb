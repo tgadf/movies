{
 "cells": [
  {
   "cell_type": "markdown",
   "metadata": {},
   "source": [
    "# BoxOfficeMojo Functions"
   ]
  },
  {
   "cell_type": "code",
   "execution_count": 5,
   "metadata": {},
   "outputs": [
    {
     "name": "stdout",
     "output_type": "stream",
     "text": [
      "The autoreload extension is already loaded. To reload it, use:\n",
      "  %reload_ext autoreload\n"
     ]
    },
    {
     "data": {
      "text/html": [
       "<style>.container { width:100% !important; }</style>"
      ],
      "text/plain": [
       "<IPython.core.display.HTML object>"
      ]
     },
     "metadata": {},
     "output_type": "display_data"
    },
    {
     "data": {
      "text/html": [
       "<style>div.output_area{max-height:10000px;overflow:scroll;}</style>"
      ],
      "text/plain": [
       "<IPython.core.display.HTML object>"
      ]
     },
     "metadata": {},
     "output_type": "display_data"
    },
    {
     "name": "stdout",
     "output_type": "stream",
     "text": [
      "Python: 3.6.6 |Anaconda custom (64-bit)| (default, Jun 28 2018, 11:07:29) \n",
      "[GCC 4.2.1 Compatible Clang 4.0.1 (tags/RELEASE_401/final)]\n",
      "Notebook Last Run Initiated: 2018-11-14 19:56:04.154831\n"
     ]
    }
   ],
   "source": [
    "## Basic stuff\n",
    "%load_ext autoreload\n",
    "%autoreload\n",
    "from IPython.core.display import display, HTML\n",
    "display(HTML(\"<style>.container { width:100% !important; }</style>\"))\n",
    "display(HTML(\"\"\"<style>div.output_area{max-height:10000px;overflow:scroll;}</style>\"\"\"))\n",
    "\n",
    "\n",
    "## Python Version\n",
    "import sys\n",
    "print(\"Python: {0}\".format(sys.version))\n",
    "\n",
    "\n",
    "## Install\n",
    "import re\n",
    "from time import sleep\n",
    "from timeUtils import clock, elapsed\n",
    "from ioUtils import saveFile, getFile\n",
    "from fsUtils import setDir, isDir, mkDir, setFile, isFile, setSubFile\n",
    "from searchUtils import findSubPatternExt\n",
    "from webUtils import getWebData, getHTML\n",
    "\n",
    "import datetime as dt\n",
    "start = dt.datetime.now()\n",
    "print(\"Notebook Last Run Initiated: \"+str(start))"
   ]
  },
  {
   "cell_type": "code",
   "execution_count": 2,
   "metadata": {},
   "outputs": [],
   "source": [
    "# Set Global Params\n",
    "moviesDir = \"/Users/tgadfort/Documents/code/movies/data\"\n",
    "def getMovieDir():\n",
    "    return moviesDir\n",
    "\n",
    "def getBoxOfficeDir():\n",
    "    dirname = setDir(getMovieDir(), \"boxoffice.com\")\n",
    "    if not isDir(dirname): mkDir(dirname)\n",
    "    return dirname"
   ]
  },
  {
   "cell_type": "markdown",
   "metadata": {},
   "source": [
    "##   getBoxOfficeMojoWeekendResults\n",
    "##   parseBoxOfficeMojoResults()\n",
    "##   mergeBoxOfficeMojoResults()\n",
    "##   processBoxOfficeMojo()"
   ]
  },
  {
   "cell_type": "markdown",
   "metadata": {},
   "source": [
    "# Get BoxOfficeMojo Files"
   ]
  },
  {
   "cell_type": "code",
   "execution_count": null,
   "metadata": {},
   "outputs": [],
   "source": [
    "def getBoxOfficeMojoWeekendResult(year, week, outdir):\n",
    "    yname = str(year)\n",
    "    if week < 10:\n",
    "        wname = \"0\"+str(week)\n",
    "    else:\n",
    "        wname = str(week)\n",
    "        \n",
    "    url=\"http://www.boxofficemojo.com/weekend/chart/?yr=\"+yname+\"&wknd=\"+wname+\"&p=.htm\"\n",
    "    savename = setFile(outdir, yname+\"-\"+wname+\".p\")\n",
    "    if isFile(savename): return\n",
    "    getWebData(base=url, savename=savename, useSafari=False)\n",
    "    sleep(2)\n",
    "\n",
    "    \n",
    "\n",
    "def getBoxOfficeMojoWeekendResults(startYear = 1982, endYear = 1983):\n",
    "    outdir = setDir(getBoxOfficeDir(), \"data\")\n",
    "    if not isDir(outdir): mkDir(outdir)\n",
    "    years  = range(int(startYear), int(endYear)+1)\n",
    "    months = range(1,53)\n",
    "    for year in years:\n",
    "        for month in months:\n",
    "            getBoxOfficeMojoWeekendResult(year, month, outdir)"
   ]
  },
  {
   "cell_type": "code",
   "execution_count": null,
   "metadata": {},
   "outputs": [],
   "source": [
    "getBoxOfficeMojoWeekendResults()"
   ]
  },
  {
   "cell_type": "markdown",
   "metadata": {},
   "source": [
    "# Parse BoxOffice Mojo Files"
   ]
  },
  {
   "cell_type": "code",
   "execution_count": 6,
   "metadata": {},
   "outputs": [],
   "source": [
    "def parseBoxOfficeMojo(ifile):\n",
    "    htmldata = getFile(ifile)\n",
    "    bsdata   = getHTML(htmldata)\n",
    "    tbl = None\n",
    "    for table in bsdata.findAll(\"table\"):\n",
    "        if tbl:\n",
    "            break\n",
    "        for tr in table.findAll(\"tr\"):\n",
    "            if len(tr) >= 10:\n",
    "                tbl = table\n",
    "                break\n",
    "            else:\n",
    "                break\n",
    "        \n",
    "    #print len(tbl)\n",
    "    keys = []\n",
    "    data = []\n",
    "    for i,tr in enumerate(tbl):\n",
    "        vals = []\n",
    "        if i == 0:\n",
    "            for j,td in enumerate(tr.findAll(\"td\")):\n",
    "                for ref in td.findAll(\"a\"):\n",
    "                    key = ref.string\n",
    "                    keys.append(key)\n",
    "        else:\n",
    "            if len(tr) <= 1: continue\n",
    "            #print \"\\n\\n\\nNext....\"\n",
    "            #print tr\n",
    "            #print \"  tr-->\",tr,'\\t',len(tr)\n",
    "            #print i,tr,len(data)\n",
    "            for j,td in enumerate(tr.findAll(\"td\")):\n",
    "                if td.string == None:\n",
    "                    continue\n",
    "                try:\n",
    "                    if re.search(\"TOTAL \\((\\d+) MOVIES\\)\", td.string):\n",
    "                        break\n",
    "                except:\n",
    "                    print(j,td.string)\n",
    "                    raise()\n",
    "                key = keys[j]\n",
    "                val = td.string\n",
    "                vals.append(val)\n",
    "                #print j,'\\t',keys[j],'\\t',td.string\n",
    "            if len(vals) == 0: break\n",
    "            if len(vals) != len(keys):\n",
    "                print(\"Mismatch with keys/data\")\n",
    "                print(len(keys),'\\t',keys)\n",
    "                print(len(vals),'\\t',vals)\n",
    "                break\n",
    "            else:\n",
    "                data.append(vals)\n",
    "\n",
    "    \n",
    "    print(\"Found\",len(data),\"movies from\",ifile            )\n",
    "    return data\n",
    "            \n",
    "\n",
    "def parseBoxOfficeMojoResults(startYear = 1982, endYear = 2017):\n",
    "    outdir   = getBoxOfficeDir()\n",
    "    if endYear == None: endYear = startYear\n",
    "    years    = range(int(startYear), int(endYear)+1)\n",
    "    for year in years:\n",
    "        retval = []\n",
    "        files  = findSubPatternExt(outdir, \"data\", pattern=str(year), ext=\".p\")\n",
    "        for ifile in files:\n",
    "            result = parseBoxOfficeMojo(ifile)\n",
    "            retval.append(result)\n",
    "\n",
    "        savename = setSubFile(outdir, \"results\", str(year)+\".json\")\n",
    "        print(\"Saving\",len(retval),\"weekends of movie data to\",savename)\n",
    "        save(savename, retval)"
   ]
  },
  {
   "cell_type": "code",
   "execution_count": 7,
   "metadata": {},
   "outputs": [
    {
     "name": "stderr",
     "output_type": "stream",
     "text": [
      "/anaconda3/envs/py36/lib/python3.6/site-packages/utils-0.0.1-py3.6.egg/webUtils.py:138: UserWarning: No parser was explicitly specified, so I'm using the best available HTML parser for this system (\"lxml\"). This usually isn't a problem, but if you run this code on another system, or in a different virtual environment, it may use a different parser and behave differently.\n",
      "\n",
      "The code that caused this warning is on line 138 of the file /anaconda3/envs/py36/lib/python3.6/site-packages/utils-0.0.1-py3.6.egg/webUtils.py. To get rid of this warning, pass the additional argument 'features=\"lxml\"' to the BeautifulSoup constructor.\n",
      "\n"
     ]
    },
    {
     "name": "stdout",
     "output_type": "stream",
     "text": [
      "Found 12 movies from /Users/tgadfort/Documents/code/movies/data/boxoffice.com/data/1982-13.p\n",
      "Found 17 movies from /Users/tgadfort/Documents/code/movies/data/boxoffice.com/data/1982-03.p\n",
      "Found 8 movies from /Users/tgadfort/Documents/code/movies/data/boxoffice.com/data/1982-09.p\n",
      "Found 12 movies from /Users/tgadfort/Documents/code/movies/data/boxoffice.com/data/1982-07.p\n",
      "Found 13 movies from /Users/tgadfort/Documents/code/movies/data/boxoffice.com/data/1982-14.p\n",
      "Found 10 movies from /Users/tgadfort/Documents/code/movies/data/boxoffice.com/data/1982-10.p\n",
      "Found 14 movies from /Users/tgadfort/Documents/code/movies/data/boxoffice.com/data/1982-04.p\n",
      "Found 12 movies from /Users/tgadfort/Documents/code/movies/data/boxoffice.com/data/1982-15.p\n",
      "Found 14 movies from /Users/tgadfort/Documents/code/movies/data/boxoffice.com/data/1982-11.p\n"
     ]
    },
    {
     "ename": "EOFError",
     "evalue": "",
     "output_type": "error",
     "traceback": [
      "\u001b[0;31m---------------------------------------------------------------------------\u001b[0m",
      "\u001b[0;31mEOFError\u001b[0m                                  Traceback (most recent call last)",
      "\u001b[0;32m<ipython-input-7-6e4ac26a3f87>\u001b[0m in \u001b[0;36m<module>\u001b[0;34m()\u001b[0m\n\u001b[0;32m----> 1\u001b[0;31m \u001b[0mparseBoxOfficeMojoResults\u001b[0m\u001b[0;34m(\u001b[0m\u001b[0;36m1982\u001b[0m\u001b[0;34m,\u001b[0m \u001b[0;36m1982\u001b[0m\u001b[0;34m)\u001b[0m\u001b[0;34m\u001b[0m\u001b[0m\n\u001b[0m",
      "\u001b[0;32m<ipython-input-6-25cb2c7d5a48>\u001b[0m in \u001b[0;36mparseBoxOfficeMojoResults\u001b[0;34m(startYear, endYear)\u001b[0m\n\u001b[1;32m     64\u001b[0m         \u001b[0mfiles\u001b[0m  \u001b[0;34m=\u001b[0m \u001b[0mfindSubPatternExt\u001b[0m\u001b[0;34m(\u001b[0m\u001b[0moutdir\u001b[0m\u001b[0;34m,\u001b[0m \u001b[0;34m\"data\"\u001b[0m\u001b[0;34m,\u001b[0m \u001b[0mpattern\u001b[0m\u001b[0;34m=\u001b[0m\u001b[0mstr\u001b[0m\u001b[0;34m(\u001b[0m\u001b[0myear\u001b[0m\u001b[0;34m)\u001b[0m\u001b[0;34m,\u001b[0m \u001b[0mext\u001b[0m\u001b[0;34m=\u001b[0m\u001b[0;34m\".p\"\u001b[0m\u001b[0;34m)\u001b[0m\u001b[0;34m\u001b[0m\u001b[0m\n\u001b[1;32m     65\u001b[0m         \u001b[0;32mfor\u001b[0m \u001b[0mifile\u001b[0m \u001b[0;32min\u001b[0m \u001b[0mfiles\u001b[0m\u001b[0;34m:\u001b[0m\u001b[0;34m\u001b[0m\u001b[0m\n\u001b[0;32m---> 66\u001b[0;31m             \u001b[0mresult\u001b[0m \u001b[0;34m=\u001b[0m \u001b[0mparseBoxOfficeMojo\u001b[0m\u001b[0;34m(\u001b[0m\u001b[0mifile\u001b[0m\u001b[0;34m)\u001b[0m\u001b[0;34m\u001b[0m\u001b[0m\n\u001b[0m\u001b[1;32m     67\u001b[0m             \u001b[0mretval\u001b[0m\u001b[0;34m.\u001b[0m\u001b[0mappend\u001b[0m\u001b[0;34m(\u001b[0m\u001b[0mresult\u001b[0m\u001b[0;34m)\u001b[0m\u001b[0;34m\u001b[0m\u001b[0m\n\u001b[1;32m     68\u001b[0m \u001b[0;34m\u001b[0m\u001b[0m\n",
      "\u001b[0;32m<ipython-input-6-25cb2c7d5a48>\u001b[0m in \u001b[0;36mparseBoxOfficeMojo\u001b[0;34m(ifile)\u001b[0m\n\u001b[1;32m      1\u001b[0m \u001b[0;32mdef\u001b[0m \u001b[0mparseBoxOfficeMojo\u001b[0m\u001b[0;34m(\u001b[0m\u001b[0mifile\u001b[0m\u001b[0;34m)\u001b[0m\u001b[0;34m:\u001b[0m\u001b[0;34m\u001b[0m\u001b[0m\n\u001b[0;32m----> 2\u001b[0;31m     \u001b[0mhtmldata\u001b[0m \u001b[0;34m=\u001b[0m \u001b[0mgetFile\u001b[0m\u001b[0;34m(\u001b[0m\u001b[0mifile\u001b[0m\u001b[0;34m)\u001b[0m\u001b[0;34m\u001b[0m\u001b[0m\n\u001b[0m\u001b[1;32m      3\u001b[0m     \u001b[0mbsdata\u001b[0m   \u001b[0;34m=\u001b[0m \u001b[0mgetHTML\u001b[0m\u001b[0;34m(\u001b[0m\u001b[0mhtmldata\u001b[0m\u001b[0;34m)\u001b[0m\u001b[0;34m\u001b[0m\u001b[0m\n\u001b[1;32m      4\u001b[0m     \u001b[0mtbl\u001b[0m \u001b[0;34m=\u001b[0m \u001b[0;32mNone\u001b[0m\u001b[0;34m\u001b[0m\u001b[0m\n\u001b[1;32m      5\u001b[0m     \u001b[0;32mfor\u001b[0m \u001b[0mtable\u001b[0m \u001b[0;32min\u001b[0m \u001b[0mbsdata\u001b[0m\u001b[0;34m.\u001b[0m\u001b[0mfindAll\u001b[0m\u001b[0;34m(\u001b[0m\u001b[0;34m\"table\"\u001b[0m\u001b[0;34m)\u001b[0m\u001b[0;34m:\u001b[0m\u001b[0;34m\u001b[0m\u001b[0m\n",
      "\u001b[0;32m/anaconda3/envs/py36/lib/python3.6/site-packages/utils-0.0.1-py3.6.egg/ioUtils.py\u001b[0m in \u001b[0;36mgetFile\u001b[0;34m(ifile)\u001b[0m\n\u001b[1;32m    535\u001b[0m     \u001b[0mext\u001b[0m \u001b[0;34m=\u001b[0m \u001b[0msplitext\u001b[0m\u001b[0;34m(\u001b[0m\u001b[0mbasename\u001b[0m\u001b[0;34m(\u001b[0m\u001b[0mifile\u001b[0m\u001b[0;34m)\u001b[0m\u001b[0;34m)\u001b[0m\u001b[0;34m[\u001b[0m\u001b[0;36m1\u001b[0m\u001b[0;34m]\u001b[0m\u001b[0;34m\u001b[0m\u001b[0m\n\u001b[1;32m    536\u001b[0m     \u001b[0;32mif\u001b[0m \u001b[0mext\u001b[0m \u001b[0;34m==\u001b[0m \u001b[0;34m\".p\"\u001b[0m\u001b[0;34m:\u001b[0m\u001b[0;34m\u001b[0m\u001b[0m\n\u001b[0;32m--> 537\u001b[0;31m         \u001b[0;32mreturn\u001b[0m \u001b[0mgetPICKLE\u001b[0m\u001b[0;34m(\u001b[0m\u001b[0mpfile\u001b[0m\u001b[0;34m=\u001b[0m\u001b[0mifile\u001b[0m\u001b[0;34m)\u001b[0m\u001b[0;34m\u001b[0m\u001b[0m\n\u001b[0m\u001b[1;32m    538\u001b[0m     \u001b[0;32melif\u001b[0m \u001b[0mext\u001b[0m \u001b[0;34m==\u001b[0m \u001b[0;34m\".json\"\u001b[0m\u001b[0;34m:\u001b[0m\u001b[0;34m\u001b[0m\u001b[0m\n\u001b[1;32m    539\u001b[0m         \u001b[0;32mreturn\u001b[0m \u001b[0mgetJSON\u001b[0m\u001b[0;34m(\u001b[0m\u001b[0mjfile\u001b[0m\u001b[0;34m=\u001b[0m\u001b[0mifile\u001b[0m\u001b[0;34m)\u001b[0m\u001b[0;34m\u001b[0m\u001b[0m\n",
      "\u001b[0;32m/anaconda3/envs/py36/lib/python3.6/site-packages/utils-0.0.1-py3.6.egg/ioUtils.py\u001b[0m in \u001b[0;36mgetPICKLE\u001b[0;34m(pfile)\u001b[0m\n\u001b[1;32m    511\u001b[0m       \u001b[0;34m>\u001b[0m \u001b[0;32mNone\u001b[0m\u001b[0;34m\u001b[0m\u001b[0m\n\u001b[1;32m    512\u001b[0m     \"\"\"\n\u001b[0;32m--> 513\u001b[0;31m     \u001b[0mdata\u001b[0m \u001b[0;34m=\u001b[0m \u001b[0mjoblib\u001b[0m\u001b[0;34m.\u001b[0m\u001b[0mload\u001b[0m\u001b[0;34m(\u001b[0m\u001b[0mpfile\u001b[0m\u001b[0;34m)\u001b[0m\u001b[0;34m\u001b[0m\u001b[0m\n\u001b[0m\u001b[1;32m    514\u001b[0m     \u001b[0;32mreturn\u001b[0m \u001b[0mdata\u001b[0m\u001b[0;34m\u001b[0m\u001b[0m\n\u001b[1;32m    515\u001b[0m \u001b[0;34m\u001b[0m\u001b[0m\n",
      "\u001b[0;32m/anaconda3/envs/py36/lib/python3.6/site-packages/sklearn/externals/joblib/numpy_pickle.py\u001b[0m in \u001b[0;36mload\u001b[0;34m(filename, mmap_mode)\u001b[0m\n\u001b[1;32m    576\u001b[0m                     \u001b[0;32mreturn\u001b[0m \u001b[0mload_compatibility\u001b[0m\u001b[0;34m(\u001b[0m\u001b[0mfobj\u001b[0m\u001b[0;34m)\u001b[0m\u001b[0;34m\u001b[0m\u001b[0m\n\u001b[1;32m    577\u001b[0m \u001b[0;34m\u001b[0m\u001b[0m\n\u001b[0;32m--> 578\u001b[0;31m                 \u001b[0mobj\u001b[0m \u001b[0;34m=\u001b[0m \u001b[0m_unpickle\u001b[0m\u001b[0;34m(\u001b[0m\u001b[0mfobj\u001b[0m\u001b[0;34m,\u001b[0m \u001b[0mfilename\u001b[0m\u001b[0;34m,\u001b[0m \u001b[0mmmap_mode\u001b[0m\u001b[0;34m)\u001b[0m\u001b[0;34m\u001b[0m\u001b[0m\n\u001b[0m\u001b[1;32m    579\u001b[0m \u001b[0;34m\u001b[0m\u001b[0m\n\u001b[1;32m    580\u001b[0m     \u001b[0;32mreturn\u001b[0m \u001b[0mobj\u001b[0m\u001b[0;34m\u001b[0m\u001b[0m\n",
      "\u001b[0;32m/anaconda3/envs/py36/lib/python3.6/site-packages/sklearn/externals/joblib/numpy_pickle.py\u001b[0m in \u001b[0;36m_unpickle\u001b[0;34m(fobj, filename, mmap_mode)\u001b[0m\n\u001b[1;32m    506\u001b[0m     \u001b[0mobj\u001b[0m \u001b[0;34m=\u001b[0m \u001b[0;32mNone\u001b[0m\u001b[0;34m\u001b[0m\u001b[0m\n\u001b[1;32m    507\u001b[0m     \u001b[0;32mtry\u001b[0m\u001b[0;34m:\u001b[0m\u001b[0;34m\u001b[0m\u001b[0m\n\u001b[0;32m--> 508\u001b[0;31m         \u001b[0mobj\u001b[0m \u001b[0;34m=\u001b[0m \u001b[0munpickler\u001b[0m\u001b[0;34m.\u001b[0m\u001b[0mload\u001b[0m\u001b[0;34m(\u001b[0m\u001b[0;34m)\u001b[0m\u001b[0;34m\u001b[0m\u001b[0m\n\u001b[0m\u001b[1;32m    509\u001b[0m         \u001b[0;32mif\u001b[0m \u001b[0munpickler\u001b[0m\u001b[0;34m.\u001b[0m\u001b[0mcompat_mode\u001b[0m\u001b[0;34m:\u001b[0m\u001b[0;34m\u001b[0m\u001b[0m\n\u001b[1;32m    510\u001b[0m             warnings.warn(\"The file '%s' has been generated with a \"\n",
      "\u001b[0;32m/anaconda3/envs/py36/lib/python3.6/pickle.py\u001b[0m in \u001b[0;36mload\u001b[0;34m(self)\u001b[0m\n\u001b[1;32m   1046\u001b[0m                 \u001b[0mkey\u001b[0m \u001b[0;34m=\u001b[0m \u001b[0mread\u001b[0m\u001b[0;34m(\u001b[0m\u001b[0;36m1\u001b[0m\u001b[0;34m)\u001b[0m\u001b[0;34m\u001b[0m\u001b[0m\n\u001b[1;32m   1047\u001b[0m                 \u001b[0;32mif\u001b[0m \u001b[0;32mnot\u001b[0m \u001b[0mkey\u001b[0m\u001b[0;34m:\u001b[0m\u001b[0;34m\u001b[0m\u001b[0m\n\u001b[0;32m-> 1048\u001b[0;31m                     \u001b[0;32mraise\u001b[0m \u001b[0mEOFError\u001b[0m\u001b[0;34m\u001b[0m\u001b[0m\n\u001b[0m\u001b[1;32m   1049\u001b[0m                 \u001b[0;32massert\u001b[0m \u001b[0misinstance\u001b[0m\u001b[0;34m(\u001b[0m\u001b[0mkey\u001b[0m\u001b[0;34m,\u001b[0m \u001b[0mbytes_types\u001b[0m\u001b[0;34m)\u001b[0m\u001b[0;34m\u001b[0m\u001b[0m\n\u001b[1;32m   1050\u001b[0m                 \u001b[0mdispatch\u001b[0m\u001b[0;34m[\u001b[0m\u001b[0mkey\u001b[0m\u001b[0;34m[\u001b[0m\u001b[0;36m0\u001b[0m\u001b[0;34m]\u001b[0m\u001b[0;34m]\u001b[0m\u001b[0;34m(\u001b[0m\u001b[0mself\u001b[0m\u001b[0;34m)\u001b[0m\u001b[0;34m\u001b[0m\u001b[0m\n",
      "\u001b[0;31mEOFError\u001b[0m: "
     ]
    }
   ],
   "source": [
    "parseBoxOfficeMojoResults(1982, 1982)"
   ]
  },
  {
   "cell_type": "markdown",
   "metadata": {},
   "source": [
    "# Merge BoxOfficeMojo Files"
   ]
  },
  {
   "cell_type": "code",
   "execution_count": null,
   "metadata": {},
   "outputs": [],
   "source": [
    "def mergeBoxOfficeMojoResults():\n",
    "    outdir = getBoxOfficeDir()\n",
    "    retval = {}\n",
    "    files  = findSubExt(outdir, \"results\", ext=\".json\")\n",
    "    for ifile in files:\n",
    "        year = getBaseFilename(ifile)\n",
    "        data = get(ifile)\n",
    "        retval[year] = data\n",
    "              \n",
    "    savename = setFile(outdir, \"results.json\")\n",
    "    print \"Saving\",len(retval),\"years of movie data to\",savename\n",
    "    save(savename, retval)"
   ]
  },
  {
   "cell_type": "markdown",
   "metadata": {},
   "source": [
    "# Process BoxOfficeMojo"
   ]
  },
  {
   "cell_type": "code",
   "execution_count": null,
   "metadata": {},
   "outputs": [],
   "source": [
    "\n",
    "\n",
    "\n",
    "\n",
    "def processBoxOfficeMojo():\n",
    "    outdir   = getBoxOfficeDir()\n",
    "    savename = setFile(outdir, \"results.json\")\n",
    "    \n",
    "    data = get(savename)\n",
    "    movies = {}\n",
    "    yearlyData = {}\n",
    "    for i,year in enumerate(data.keys()):\n",
    "        movies[year] = {}\n",
    "        ydata = data[year]\n",
    "        for wdata in ydata:\n",
    "            for mdata in wdata:\n",
    "                movie  = mdata[2]\n",
    "                retval = search(\"\\((\\d+)\\)\",movie)\n",
    "                if retval:\n",
    "                    stryear  = retval.group()\n",
    "                    movie = movie.replace(stryear, \"\").strip()\n",
    "\n",
    "                gross  = convertCurrency(mdata[9])\n",
    "                weekly = convertCurrency(mdata[4])\n",
    "                money  = max(gross, weekly)\n",
    "                if movies[year].get(movie) == None:\n",
    "                    movies[year][movie] = money\n",
    "                else:                    \n",
    "                    movies[year][movie] = max(money, movies[year][movie])\n",
    "\n",
    "        yearlyData[year] = sorted(movies[year].items(), key=operator.itemgetter(1), reverse=True)\n",
    "        print \"---->\",year,\"<----\"\n",
    "        for item in yearlyData[year][:25]:\n",
    "            print item\n",
    "        print '\\n'\n",
    "        \n",
    "    savename = setFile(outdir, \"boxofficemojo.json\")\n",
    "    print \"Saving\",len(yearlyData),\"yearly results to\",savename\n",
    "    save(savename, yearlyData)"
   ]
  },
  {
   "cell_type": "code",
   "execution_count": null,
   "metadata": {},
   "outputs": [],
   "source": []
  }
 ],
 "metadata": {
  "kernelspec": {
   "display_name": "Python 3",
   "language": "python",
   "name": "python3"
  },
  "language_info": {
   "codemirror_mode": {
    "name": "ipython",
    "version": 3
   },
   "file_extension": ".py",
   "mimetype": "text/x-python",
   "name": "python",
   "nbconvert_exporter": "python",
   "pygments_lexer": "ipython3",
   "version": "3.6.6"
  }
 },
 "nbformat": 4,
 "nbformat_minor": 2
}
