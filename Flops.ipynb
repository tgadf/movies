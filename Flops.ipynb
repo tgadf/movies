{
 "cells": [
  {
   "cell_type": "markdown",
   "metadata": {},
   "source": [
    "# Flops Functions"
   ]
  },
  {
   "cell_type": "code",
   "execution_count": 31,
   "metadata": {},
   "outputs": [
    {
     "data": {
      "text/html": [
       "<style>.container { width:100% !important; }</style>"
      ],
      "text/plain": [
       "<IPython.core.display.HTML object>"
      ]
     },
     "metadata": {},
     "output_type": "display_data"
    },
    {
     "data": {
      "text/html": [
       "<style>div.output_area{max-height:10000px;overflow:scroll;}</style>"
      ],
      "text/plain": [
       "<IPython.core.display.HTML object>"
      ]
     },
     "metadata": {},
     "output_type": "display_data"
    },
    {
     "name": "stdout",
     "output_type": "stream",
     "text": [
      "Python: 3.6.6 |Anaconda custom (64-bit)| (default, Jun 28 2018, 11:07:29) \n",
      "[GCC 4.2.1 Compatible Clang 4.0.1 (tags/RELEASE_401/final)]\n",
      "Notebook Last Run Initiated: 2019-01-12 11:21:09.784229\n"
     ]
    }
   ],
   "source": [
    "## Basic stuff\n",
    "%load_ext autoreload\n",
    "%autoreload\n",
    "from IPython.core.display import display, HTML\n",
    "display(HTML(\"<style>.container { width:100% !important; }</style>\"))\n",
    "display(HTML(\"\"\"<style>div.output_area{max-height:10000px;overflow:scroll;}</style>\"\"\"))\n",
    "\n",
    "## Python Version\n",
    "import sys\n",
    "print(\"Python: {0}\".format(sys.version))\n",
    "\n",
    "from flops import flops\n",
    "\n",
    "from timeUtils import clock, elapsed\n",
    "import datetime as dt\n",
    "start = dt.datetime.now()\n",
    "print(\"Notebook Last Run Initiated: \"+str(start))"
   ]
  },
  {
   "cell_type": "markdown",
   "metadata": {},
   "source": [
    "# Get/Parse/Merge/Process Rolling Stone Data"
   ]
  },
  {
   "cell_type": "code",
   "execution_count": null,
   "metadata": {},
   "outputs": [],
   "source": []
  },
  {
   "cell_type": "code",
   "execution_count": 32,
   "metadata": {},
   "outputs": [
    {
     "name": "stdout",
     "output_type": "stream",
     "text": [
      "Current Time is Sat Jan 12, 2019 11:21:13 for Last Run\n"
     ]
    }
   ],
   "source": [
    "flop = flops()\n",
    "_, _ = clock(\"Last Run\")"
   ]
  },
  {
   "cell_type": "code",
   "execution_count": 33,
   "metadata": {
    "scrolled": true
   },
   "outputs": [],
   "source": [
    "#razzy.getRazziesCategoryData(debug=True)"
   ]
  },
  {
   "cell_type": "code",
   "execution_count": 34,
   "metadata": {},
   "outputs": [
    {
     "name": "stdout",
     "output_type": "stream",
     "text": [
      "['Title', 'Year', 'Production budget (net)', 'Gross', 'Estimated loss', 'Ref.']\n",
      "1999 \t The 13th Warrior\n",
      "2013 \t 47 Ronin\n",
      "1988 \t The Adventures of Baron Munchausen\n",
      "2002 \t The Adventures of Pluto Nash\n",
      "2000 \t The Adventures of Rocky & Bullwinkle\n",
      "2004 \t The Alamo\n",
      "2004 \t Alexander\n",
      "2001 \t Ali\n",
      "2016 \t Alice Through the Looking Glass\n",
      "2016 \t Allied\n",
      "2004 \t Around the World in 80 Days\n",
      "1999 \t The Astronaut's Wife\n",
      "2002 \t Ballistic: Ecks vs. Sever\n",
      "2000 \t Battlefield Earth\n",
      "1998 \t Beloved\n",
      "2016 \t Ben-Hur\n",
      "2016 \t The BFG\n",
      "2015 \t Blackhat\n",
      "2017 \t Blade Runner 2049\n",
      "1999 \t Chill Factor\n",
      "2004 \t The Chronicles of Riddick\n",
      "2011 \t Conan the Barbarian\n",
      "1984 \t The Cotton Club\n",
      "2011 \t Cowboys & Aliens\n",
      "1995 \t Cutthroat Island\n",
      "2016 \t Deepwater Horizon\n",
      "1967 \t Doctor Dolittle\n",
      "2001 \t Driven\n",
      "1999 \t Dudley Do-Right\n",
      "2013 \t Ender's Game\n",
      "2007 \t Evan Almighty\n",
      "1964 \t The Fall of the Roman Empire\n",
      "2015 \t Fantastic Four\n",
      "1997 \t Fathers' Day\n",
      "2001 \t Final Fantasy: The Spirits Within\n",
      "2016 \t The Finest Hours\n",
      "2017 \t Geostorm\n",
      "2016 \t Ghostbusters\n",
      "2003 \t Gigli\n",
      "2016 \t Gods of Egypt\n",
      "2015 \t The Good Dinosaur\n",
      "2005 \t The Great Raid\n",
      "2016 \t The Great Wall\n",
      "2011 \t Green Lantern\n",
      "2011 \t Happy Feet Two\n",
      "1998 \t Hard Rain\n",
      "2002 \t Hart's War\n",
      "1980 \t Heaven's Gate\n",
      "2010 \t How Do You Know\n",
      "1991 \t Hudson Hawk\n",
      "2011 \t Hugo\n",
      "2016 \t The Huntsman: Winter's War\n",
      "1982 \t Inchon\n",
      "1999 \t Instinct\n",
      "2007 \t The Invasion\n",
      "1987 \t Ishtar\n",
      "1998 \t Jack Frost\n",
      "2013 \t Jack the Giant Slayer\n",
      "2012 \t John Carter\n",
      "2015 \t Jupiter Ascending\n",
      "2017 \t Justice League\n",
      "2017 \t King Arthur: Legend of the Sword\n",
      "2002 \t K-19: The Widowmaker\n",
      "1983 \t Krull\n",
      "2009 \t Land of the Lost\n",
      "2014 \t Legends of Oz: Dorothy's Return\n",
      "2016 \t Live by Night\n",
      "1997 \t Lolita\n",
      "2013 \t The Lone Ranger\n",
      "2007 \t Lucky You\n",
      "2015 \t The Man from U.N.C.L.E.\n",
      "2011 \t Mars Needs Moms\n",
      "2001 \t Monkeybone\n",
      "2016 \t Monster Trucks\n",
      "2018 \t Mortal Engines\n",
      "2017 \t The Mummy\n",
      "2010 \t The Nutcracker in 3D\n",
      "2001 \t Osmosis Jones\n",
      "2015 \t Pan\n",
      "2003 \t Peter Pan\n",
      "2015 \t Pixels\n",
      "2006 \t Poseidon\n",
      "1997 \t The Postman\n",
      "2017 \t Power Rangers\n",
      "2016 \t The Promise\n",
      "2013 \t R.I.P.D.\n",
      "2000 \t Red Planet\n",
      "2012 \t Rise of the Guardians\n",
      "2002 \t Rollerball\n",
      "2007 \t Rush Hour 3\n",
      "2005 \t Sahara\n",
      "2015 \t Seventh Son\n",
      "1998 \t Soldier\n",
      "2018 \t Solo: A Star Wars Story\n",
      "2005 \t A Sound of Thunder\n",
      "2003 \t Sinbad: Legend of the Seven Seas\n",
      "2008 \t Speed Racer\n",
      "1998 \t Sphere\n",
      "2005 \t Stealth\n",
      "2000 \t Supernova\n",
      "2016 \t Teenage Mutant Ninja Turtles: Out of the Shadows\n",
      "2000 \t Titan A.E.\n",
      "2015 \t Tomorrowland\n",
      "2001 \t Town & Country\n",
      "2002 \t Treasure Planet\n",
      "2017 \t Valerian and the City of a Thousand Planets\n",
      "2002 \t Windtalkers\n",
      "2010 \t The Wolfman\n",
      "2018 \t A Wrinkle in Time\n",
      "2005 \t xXx: State of the Union\n",
      "2006 \t Zoom\n",
      "Saving 32 Years of flops Data to /Users/tgadfort/Documents/code/movies/flops/results/flops.json\n"
     ]
    }
   ],
   "source": [
    "flop.processFlopsData(debug=True)"
   ]
  }
 ],
 "metadata": {
  "kernelspec": {
   "display_name": "Python 3",
   "language": "python",
   "name": "python3"
  },
  "language_info": {
   "codemirror_mode": {
    "name": "ipython",
    "version": 3
   },
   "file_extension": ".py",
   "mimetype": "text/x-python",
   "name": "python",
   "nbconvert_exporter": "python",
   "pygments_lexer": "ipython3",
   "version": "3.6.6"
  }
 },
 "nbformat": 4,
 "nbformat_minor": 2
}
