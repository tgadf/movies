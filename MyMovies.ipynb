{
 "cells": [
  {
   "cell_type": "markdown",
   "metadata": {},
   "source": [
    "# List of My Movies"
   ]
  },
  {
   "cell_type": "code",
   "execution_count": 8,
   "metadata": {},
   "outputs": [
    {
     "name": "stdout",
     "output_type": "stream",
     "text": [
      "The autoreload extension is already loaded. To reload it, use:\n",
      "  %reload_ext autoreload\n"
     ]
    },
    {
     "data": {
      "text/html": [
       "<style>.container { width:100% !important; }</style>"
      ],
      "text/plain": [
       "<IPython.core.display.HTML object>"
      ]
     },
     "metadata": {},
     "output_type": "display_data"
    },
    {
     "data": {
      "text/html": [
       "<style>div.output_area{max-height:10000px;overflow:scroll;}</style>"
      ],
      "text/plain": [
       "<IPython.core.display.HTML object>"
      ]
     },
     "metadata": {},
     "output_type": "display_data"
    },
    {
     "name": "stdout",
     "output_type": "stream",
     "text": [
      "Python: 3.7.3 (default, Mar 27 2019, 16:54:48) \n",
      "[Clang 4.0.1 (tags/RELEASE_401/final)]\n",
      "Notebook Last Run Initiated: 2019-06-24 23:40:27.939143\n"
     ]
    }
   ],
   "source": [
    "## Basic stuff\n",
    "%load_ext autoreload\n",
    "%autoreload\n",
    "from IPython.core.display import display, HTML\n",
    "display(HTML(\"<style>.container { width:100% !important; }</style>\"))\n",
    "display(HTML(\"\"\"<style>div.output_area{max-height:10000px;overflow:scroll;}</style>\"\"\"))\n",
    "\n",
    "## Python Version\n",
    "import sys\n",
    "print(\"Python: {0}\".format(sys.version))\n",
    "\n",
    "from combine import combine\n",
    "from fsUtils import moveFile\n",
    "from timeUtils import clock, elapsed\n",
    "\n",
    "\n",
    "import datetime as dt\n",
    "start = dt.datetime.now()\n",
    "print(\"Notebook Last Run Initiated: \"+str(start))"
   ]
  },
  {
   "cell_type": "markdown",
   "metadata": {},
   "source": [
    "# Combine Movies"
   ]
  },
  {
   "cell_type": "code",
   "execution_count": 5,
   "metadata": {},
   "outputs": [
    {
     "name": "stdout",
     "output_type": "stream",
     "text": [
      "The autoreload extension is already loaded. To reload it, use:\n",
      "  %reload_ext autoreload\n",
      "Found 32 Years of Flops Movies\n",
      "Found 105 Years of Filmsite Movies\n",
      "Found 98 Years of Wiki Film Movies\n",
      "Found 94 Years of Rotten Tomatoes Movies\n",
      "Found 50 Years of AACTA Movies\n",
      "Found 25 Years of SAG Movies\n",
      "Found 119 Years of Films101 Movies\n",
      "Found 39 Years of Box Office Mojo Movies\n",
      "Found 38 Years of Razzies Movies\n",
      "Found 67 Years of Ultimate Movie Rankings Movies\n",
      "Found 84 Years of Oscar Movies\n",
      "Found 61 Years of Canada Movies\n",
      "Found 23 Years of Rolling Stone Movies\n",
      "Found 47 Years of BAFTA Movies\n",
      "Found Data Between 1900 and 2018\n",
      "Found 914 old corrections\n",
      "Found 5 new corrections\n",
      "Saving data to /Users/tgadfort/Documents/code/movies/combine/data/saved.yaml\n",
      "Saved data to /Users/tgadfort/Documents/code/movies/combine/data/saved.yaml\n",
      "  --> This file is 52.6kB.\n",
      "There are 914 total corrections\n",
      "Found 17741 movies\n",
      "\t ('Films101', 8272)\n",
      "\t ('Box Office Mojo', 3934)\n",
      "\t ('Oscar', 2267)\n",
      "\t ('Rotten Tomatoes', 987)\n",
      "\t ('AACTA', 672)\n",
      "\t ('Filmsite', 669)\n",
      "\t ('Razzies', 349)\n",
      "\t ('Canada', 225)\n",
      "\t ('Wiki Film', 155)\n",
      "\t ('BAFTA', 153)\n",
      "\t ('Ultimate Movie Rankings', 29)\n",
      "\t ('SAG', 13)\n",
      "\t ('Rolling Stone', 11)\n",
      "\t ('Flops', 5)\n",
      "Could not remove Amarcord [1973]\n",
      "Could not remove A Room With A View [1987]\n",
      "Could not remove Life Is Beautiful [1999]\n",
      "Could not remove Affliction [1999]\n",
      "Could not remove Spirited Away [2003]\n",
      "Could not remove Nowhere In Africa [2003]\n",
      "Could not remove City Of Gold [2004]\n",
      "Could not remove In America [2004]\n",
      "Could not remove Dirty Pretty Things [2004]\n",
      "Could not remove Crash [2006]\n",
      "Could not remove The Hurt Locker [2010]\n",
      "Could not remove The Girl With The Dragon Tattoo [2010]\n",
      "Could not remove Ernest & Célestine [2012]\n",
      "There are 16446 final movies\n",
      "Saving data to /Users/tgadfort/Documents/code/movies/combine/results/movies.json\n",
      "Saved data to /Users/tgadfort/Documents/code/movies/combine/results/movies.json\n",
      "  --> This file is 664.9kB.\n"
     ]
    }
   ],
   "source": [
    "%load_ext autoreload\n",
    "%autoreload\n",
    "\n",
    "from combine import combine\n",
    "\n",
    "from wikipedia import wikipedia\n",
    "from wikifilm import wikifilm\n",
    "from oscar import oscars\n",
    "from razzies import razzies\n",
    "from rollingstone import rollingstone\n",
    "from BAFTA import BAFTA\n",
    "from SAG import SAG\n",
    "from filmsite import filmsite\n",
    "from films101 import films101\n",
    "from AACTA import AACTA\n",
    "from flops import flops\n",
    "from canada import Canada\n",
    "from boxofficemojo import boxofficemojo\n",
    "from rottentomatoes import rottentomatoes\n",
    "from ultimatemovierankings import ultimatemovierankings\n",
    "\n",
    "comb = combine()\n",
    "comb.setOscarData(oscars(wikipedia()), 10)\n",
    "comb.setWikiFilmData(wikifilm(), 1)\n",
    "comb.setRazziesData(razzies(), 1)\n",
    "comb.setBAFTAData(BAFTA(), 1)\n",
    "comb.setSAGData(SAG(), 1)\n",
    "comb.setAACTAData(AACTA(), 1)\n",
    "comb.setFilmsiteData(filmsite(), 1)\n",
    "comb.setFilms101Data(films101(), 1)\n",
    "comb.setFlopsData(flops(), 1)\n",
    "comb.setCanadaData(Canada(), 1)\n",
    "comb.setRollingStoneData(rollingstone(), 1)\n",
    "comb.setRottenTomatoesData(rottentomatoes(), 90)\n",
    "comb.setBoxOfficeMojoData(boxofficemojo(), 5e6)\n",
    "comb.setUltimateMovieRankingsData(ultimatemovierankings(), 90)\n",
    "comb.getData()\n",
    "comb.saveCorrections(debug=True)\n",
    "comb.mergeMovies(debug=True)"
   ]
  },
  {
   "cell_type": "markdown",
   "metadata": {},
   "source": [
    "# Merge My Movies With Combined Movies"
   ]
  },
  {
   "cell_type": "code",
   "execution_count": 6,
   "metadata": {},
   "outputs": [],
   "source": [
    "from mymovies import mymovies"
   ]
  },
  {
   "cell_type": "code",
   "execution_count": 9,
   "metadata": {},
   "outputs": [
    {
     "name": "stdout",
     "output_type": "stream",
     "text": [
      "Current Time is Mon Jun 24, 2019 23:40:31 for Last Run\n"
     ]
    }
   ],
   "source": [
    "mine = mymovies()\n",
    "mine.setCombinedMovies(combine())\n",
    "_ = clock(\"Last Run\")"
   ]
  },
  {
   "cell_type": "code",
   "execution_count": 14,
   "metadata": {},
   "outputs": [],
   "source": [
    "mine.suggestRenames()"
   ]
  },
  {
   "cell_type": "code",
   "execution_count": 15,
   "metadata": {},
   "outputs": [
    {
     "name": "stdout",
     "output_type": "stream",
     "text": [
      "Found 6472 movies on my disks\n",
      "Saving data to /Users/tgadfort/Documents/code/movies/mymovies/data/mymovies.json\n",
      "Saved data to /Users/tgadfort/Documents/code/movies/mymovies/data/mymovies.json\n",
      "  --> This file is 523.5kB.\n",
      "Current Time is Mon Jun 24, 2019 23:42:59 for Last Run\n"
     ]
    }
   ],
   "source": [
    "mine.findMyMovies()\n",
    "_ = clock(\"Last Run\")"
   ]
  },
  {
   "cell_type": "code",
   "execution_count": 16,
   "metadata": {
    "scrolled": true
   },
   "outputs": [],
   "source": [
    "### Stopped after 1985. Do 1986 onward\n",
    "mine.mergeMovies()"
   ]
  },
  {
   "cell_type": "code",
   "execution_count": 171,
   "metadata": {},
   "outputs": [],
   "source": [
    "show = False\n",
    "if show:\n",
    "    renames = mine.getMovieRenames()\n",
    "    for old,new in renames.items():\n",
    "        print(\"moveFile(src=\\\"{0}\\\", dst=\\\"{1}\\\", debug=True)\".format(old,new))"
   ]
  },
  {
   "cell_type": "code",
   "execution_count": 8,
   "metadata": {},
   "outputs": [
    {
     "name": "stdout",
     "output_type": "stream",
     "text": [
      "Ben Is Back  --->  ['Men In Black 3 [2012]', 'Men In Black [1997]', 'The Way Back [2010]']\n",
      "moveFile(src=\"/Volumes/Save/Movies/Men In Black 3 [2012].avi\", dst=\"/Volumes/Save/Movies/Men In Black 3 [2012].avi\", debug=True)\n",
      "\n"
     ]
    }
   ],
   "source": [
    "mine.searchMyMovies(\"Ben Is Back\", 2019, cutoff=0.6)"
   ]
  },
  {
   "cell_type": "code",
   "execution_count": 43,
   "metadata": {
    "scrolled": false
   },
   "outputs": [
    {
     "name": "stdout",
     "output_type": "stream",
     "text": [
      "====================== Missing Movies ======================\n",
      "Year      Movie                                                                                               \n",
      "----      -----                                                                                               \n",
      "\n",
      "2014      12 O'clock Boys                                                                                     \n",
      "2014      A Pigeon Sat On A Branch Reflecting On Existence                                                    \n",
      "2014      A Summer's Tale                                                                                     \n",
      "2014      America                                                                                             \n",
      "2014      Art And Craft                                                                                       \n",
      "2014      Becoming Bulletproof                                                                                \n",
      "2014      Black Souls                                                                                         \n",
      "2014      Cantinflas                                                                                          \n",
      "2014      Cast No Shadow                                                                                      \n",
      "2014      Charlie's Country                                                                                   \n",
      "2014      Child's Pose                                                                                        \n",
      "2014      Chuang ru zhe                                                                                       \n",
      "2014      Closed Curtain                                                                                      \n",
      "2014      Crisis Hotline Veterans Press 1                                                                     \n",
      "2014      Dead Snow 2: Red vs. Dead                                                                           \n",
      "2014      Disneynature Bears                                                                                  \n",
      "2014      Elaine Stritch Shoot Me                                                                             \n",
      "2014      Fall                                                                                                \n",
      "2014      Famous Nathan                                                                                       \n",
      "2014      Far From Men                                                                                        \n",
      "2014      Feast                                                                                               \n",
      "2014      Felix And Meira                                                                                     \n",
      "2014      Finding Vivian Maier                                                                                \n",
      "2014      Fires On The Plain                                                                                  \n",
      "2014      Fishing Without Nets                                                                                \n",
      "2014      Force Majeure                                                                                       \n",
      "2014      Frank Miller's Sin City A Dame To Kill For                                                          \n",
      "2014      Glen Campbell: I'll Be Me                                                                           \n",
      "2014      God Help The Girl                                                                                   \n",
      "2014      Good Kill                                                                                           \n",
      "2014      Happy Valley                                                                                        \n",
      "2014      Hungry Hearts                                                                                       \n",
      "2014      Il giovane favoloso                                                                                 \n",
      "2014      In Bloom                                                                                            \n",
      "2014      In Her Place                                                                                        \n",
      "2014      In Order Of Disappearance                                                                           \n",
      "2014      Infinitely Polar Bear                                                                               \n",
      "2014      Journey To The South Pacific                                                                        \n",
      "2014      Keep On Keepin' On                                                                                  \n",
      "2014      Kumiko, The Treasure Hunter                                                                         \n",
      "2014      La rançon de la gloire                                                                              \n",
      "2014      Labyrinth Of Lies                                                                                   \n",
      "2014      Le dernier coup de marteau                                                                          \n",
      "2014      Learning To Drive                                                                                   \n",
      "2014      Live Die Repeat Edge Of Tomorrow                                                                    \n",
      "2014      Love Is Strange                                                                                     \n",
      "2014      Low Down                                                                                            \n",
      "2014      Magician: The Astonishing Life And Work Of Orson Welles                                             \n",
      "2014      Manglehorn                                                                                          \n",
      "2014      May Allah Bless France!                                                                             \n",
      "2014      Meet The Mormons                                                                                    \n",
      "2014      Mistaken For Strangers                                                                              \n",
      "2014      National Gallery                                                                                    \n",
      "2014      Obvious Child                                                                                       \n",
      "2014      P.K.                                                                                                \n",
      "2014      Pasolini                                                                                            \n",
      "2014      Patrick Brammall                                                                                    \n",
      "2014      Pervert Park                                                                                        \n",
      "2014      Predestination                                                                                      \n",
      "2014      Pride                                                                                               \n",
      "2014      Rich Hill                                                                                           \n",
      "2014      Robert Pattinson                                                                                    \n",
      "2014      Siddharth                                                                                           \n",
      "2014      Sivas                                                                                               \n",
      "2014      Sound Of Redemption: The Frank Morgan Story                                                         \n",
      "2014      Stranger By The Lake                                                                                \n",
      "2014      T.J. Power                                                                                          \n",
      "2014      Tales                                                                                               \n",
      "2014      The 78 Project Movie                                                                                \n",
      "2014      The Cut                                                                                             \n",
      "2014      The Dance Of Reality                                                                                \n",
      "2014      The Disappearance Of Eleanor Rigby: Them                                                            \n",
      "2014      The Dog                                                                                             \n",
      "2014      The Guest                                                                                           \n",
      "2014      The Homesman                                                                                        \n",
      "2014      The Humbling                                                                                        \n",
      "2014      The Internet's Own Boy The Story Of Aaron Swartz                                                    \n",
      "2014      The Kill Team                                                                                       \n",
      "2014      The LEGO Movie                                                                                      \n",
      "2014      The Little Death                                                                                    \n",
      "2014      The Lunchbox                                                                                        \n",
      "2014      The Normal Heart                                                                                    \n",
      "2014      The One I Love                                                                                      \n",
      "2014      The Phone Call                                                                                      \n",
      "2014      The Postman's White Nights                                                                          \n",
      "2014      The Rocket                                                                                          \n",
      "2014      The Russian Woodpecker                                                                              \n",
      "2014      The Testament Of Youth                                                                              \n",
      "2014      The Tribe                                                                                           \n",
      "2014      The Trip To Italy                                                                                   \n",
      "2014      The Water Diviner                                                                                   \n",
      "2014      Theodore Bikel: In The Shoes Of Sholom Aleichem                                                     \n",
      "2014      Three Hearts                                                                                        \n",
      "2014      Time Out Of Mind                                                                                    \n",
      "2014      To Be Takei                                                                                         \n",
      "2014      To Kill A Man                                                                                       \n",
      "2014      Tony Benn: Will And Testament                                                                       \n",
      "2014      Trash                                                                                               \n",
      "2014      Tu dors Nicole                                                                                      \n",
      "2014      Wetlands                                                                                            \n",
      "2014      White God                                                                                           \n",
      "2014      Wild, Bobbi Grey                                                                                    \n",
      "2014      Winter Sleep                                                                                        \n",
      "2014      Yılmaz Erdoğan                                                                                      \n"
     ]
    }
   ],
   "source": [
    "#mine.showCombinedMovieStatus(1987)\n",
    "mine.printMissingMovies(2014)"
   ]
  },
  {
   "cell_type": "code",
   "execution_count": null,
   "metadata": {},
   "outputs": [],
   "source": []
  },
  {
   "cell_type": "code",
   "execution_count": 173,
   "metadata": {
    "scrolled": true
   },
   "outputs": [
    {
     "data": {
      "text/plain": [
       "{1900: {None},\n",
       " 1901: {None},\n",
       " 1902: {None},\n",
       " 1903: {None},\n",
       " 1904: {None},\n",
       " 1905: {None},\n",
       " 1906: {None},\n",
       " 1907: {None},\n",
       " 1908: {None},\n",
       " 1909: {None},\n",
       " 1910: {None},\n",
       " 1911: {None},\n",
       " 1912: {None},\n",
       " 1913: {None},\n",
       " 1914: {None},\n",
       " 1915: {None},\n",
       " 1916: {None},\n",
       " 1917: {None},\n",
       " 1918: {None},\n",
       " 1919: {None},\n",
       " 1920: {None},\n",
       " 1921: {None},\n",
       " 1922: {None},\n",
       " 1923: {None},\n",
       " 1924: {None},\n",
       " 1925: {None},\n",
       " 1926: {None},\n",
       " 1927: {None},\n",
       " 1928: {None},\n",
       " 1929: {None},\n",
       " 1930: {None},\n",
       " 1931: {None},\n",
       " 1932: {None},\n",
       " 1933: {None},\n",
       " 1934: {None},\n",
       " 1935: {None},\n",
       " 1936: {None},\n",
       " 1937: {None},\n",
       " 1938: {None},\n",
       " 1939: {None},\n",
       " 1940: {None},\n",
       " 1941: {None},\n",
       " 1942: {None},\n",
       " 1943: {None},\n",
       " 1944: {None},\n",
       " 1945: {None},\n",
       " 1946: {None},\n",
       " 1947: {None},\n",
       " 1948: {None},\n",
       " 1949: {None},\n",
       " 1950: {None},\n",
       " 1951: {None},\n",
       " 1952: {None},\n",
       " 1953: {None},\n",
       " 1954: {None},\n",
       " 1955: {None},\n",
       " 1956: {None},\n",
       " 1957: {None},\n",
       " 1958: {None},\n",
       " 1959: {None},\n",
       " 1960: {None},\n",
       " 1961: {None},\n",
       " 1962: {None},\n",
       " 1963: {None},\n",
       " 1964: {None},\n",
       " 1965: {None},\n",
       " 1966: {None},\n",
       " 1967: {None},\n",
       " 1968: {None},\n",
       " 1969: {None},\n",
       " 1970: {None},\n",
       " 1971: {None},\n",
       " 1972: {None},\n",
       " 1973: {None},\n",
       " 1974: {None},\n",
       " 1975: {None},\n",
       " 1976: {None},\n",
       " 1977: {None},\n",
       " 1978: {None},\n",
       " 1979: {None},\n",
       " 1980: {None},\n",
       " 1981: {None},\n",
       " 1982: {None},\n",
       " 1983: {None},\n",
       " 1984: {None},\n",
       " 1985: {None},\n",
       " 1986: {None},\n",
       " 1987: {None},\n",
       " 1988: {None},\n",
       " 1989: {None},\n",
       " 1990: {None},\n",
       " 1991: {None},\n",
       " 1992: {None},\n",
       " 1993: {None},\n",
       " 1994: {None},\n",
       " 1995: {None},\n",
       " 1996: {None},\n",
       " 1997: {None},\n",
       " 1998: {None},\n",
       " 1999: {None},\n",
       " 2000: {None},\n",
       " 2001: {None},\n",
       " 2002: {None},\n",
       " 2003: {None},\n",
       " 2004: {None},\n",
       " 2005: {None},\n",
       " 2006: {None},\n",
       " 2007: {None},\n",
       " 2008: {None},\n",
       " 2009: {None},\n",
       " 2010: {None},\n",
       " 2011: {None},\n",
       " 2012: {None},\n",
       " 2013: {None},\n",
       " 2014: {None},\n",
       " 2015: {None},\n",
       " 2016: {None},\n",
       " 2017: {None},\n",
       " 2018: {None}}"
      ]
     },
     "execution_count": 173,
     "metadata": {},
     "output_type": "execute_result"
    }
   ],
   "source": [
    "mine.missingMovies"
   ]
  },
  {
   "cell_type": "code",
   "execution_count": 166,
   "metadata": {},
   "outputs": [
    {
     "name": "stdout",
     "output_type": "stream",
     "text": [
      "====================== Missing Movies ======================\n",
      "Year      Movie                                                                                               \n",
      "----      -----                                                                                               \n",
      "\n",
      "{None}\n"
     ]
    },
    {
     "ename": "TypeError",
     "evalue": "unsupported format string passed to NoneType.__format__",
     "output_type": "error",
     "traceback": [
      "\u001b[0;31m---------------------------------------------------------------------------\u001b[0m",
      "\u001b[0;31mTypeError\u001b[0m                                 Traceback (most recent call last)",
      "\u001b[0;32m<ipython-input-166-f7b745fb06b1>\u001b[0m in \u001b[0;36m<module>\u001b[0;34m()\u001b[0m\n\u001b[0;32m----> 1\u001b[0;31m \u001b[0mprintMissingMovies\u001b[0m\u001b[0;34m(\u001b[0m\u001b[0;36m1995\u001b[0m\u001b[0;34m)\u001b[0m\u001b[0;34m\u001b[0m\u001b[0m\n\u001b[0m",
      "\u001b[0;32m<ipython-input-165-6edde44ea654>\u001b[0m in \u001b[0;36mprintMissingMovies\u001b[0;34m(year)\u001b[0m\n\u001b[1;32m     29\u001b[0m             \u001b[0mprintMissingMoviesByYear\u001b[0m\u001b[0;34m(\u001b[0m\u001b[0mmissingMovies\u001b[0m\u001b[0;34m[\u001b[0m\u001b[0myear\u001b[0m\u001b[0;34m]\u001b[0m\u001b[0;34m)\u001b[0m\u001b[0;34m\u001b[0m\u001b[0m\n\u001b[1;32m     30\u001b[0m     \u001b[0;32melse\u001b[0m\u001b[0;34m:\u001b[0m\u001b[0;34m\u001b[0m\u001b[0m\n\u001b[0;32m---> 31\u001b[0;31m         \u001b[0mprintMissingMoviesByYear\u001b[0m\u001b[0;34m(\u001b[0m\u001b[0myear\u001b[0m\u001b[0;34m,\u001b[0m \u001b[0mmissingMovies\u001b[0m\u001b[0;34m[\u001b[0m\u001b[0myear\u001b[0m\u001b[0;34m]\u001b[0m\u001b[0;34m)\u001b[0m\u001b[0;34m\u001b[0m\u001b[0m\n\u001b[0m",
      "\u001b[0;32m<ipython-input-165-6edde44ea654>\u001b[0m in \u001b[0;36mprintMissingMoviesByYear\u001b[0;34m(year, movies)\u001b[0m\n\u001b[1;32m      3\u001b[0m     \u001b[0mprint\u001b[0m\u001b[0;34m(\u001b[0m\u001b[0mmovies\u001b[0m\u001b[0;34m)\u001b[0m\u001b[0;34m\u001b[0m\u001b[0m\n\u001b[1;32m      4\u001b[0m     \u001b[0;32mfor\u001b[0m \u001b[0mmovie\u001b[0m \u001b[0;32min\u001b[0m \u001b[0msorted\u001b[0m\u001b[0;34m(\u001b[0m\u001b[0mmovies\u001b[0m\u001b[0;34m)\u001b[0m\u001b[0;34m:\u001b[0m\u001b[0;34m\u001b[0m\u001b[0m\n\u001b[0;32m----> 5\u001b[0;31m         \u001b[0mprint\u001b[0m\u001b[0;34m(\u001b[0m\u001b[0;34m\"{0: <10}{1: <100}\"\u001b[0m\u001b[0;34m.\u001b[0m\u001b[0mformat\u001b[0m\u001b[0;34m(\u001b[0m\u001b[0myear\u001b[0m\u001b[0;34m,\u001b[0m \u001b[0mmovie\u001b[0m\u001b[0;34m)\u001b[0m\u001b[0;34m)\u001b[0m\u001b[0;34m\u001b[0m\u001b[0m\n\u001b[0m\u001b[1;32m      6\u001b[0m         \u001b[0;32mcontinue\u001b[0m\u001b[0;34m\u001b[0m\u001b[0m\n\u001b[1;32m      7\u001b[0m \u001b[0;34m\u001b[0m\u001b[0m\n",
      "\u001b[0;31mTypeError\u001b[0m: unsupported format string passed to NoneType.__format__"
     ]
    }
   ],
   "source": [
    "printMissingMovies(1995)"
   ]
  },
  {
   "cell_type": "code",
   "execution_count": null,
   "metadata": {},
   "outputs": [],
   "source": []
  },
  {
   "cell_type": "code",
   "execution_count": null,
   "metadata": {},
   "outputs": [],
   "source": []
  },
  {
   "cell_type": "code",
   "execution_count": 51,
   "metadata": {},
   "outputs": [
    {
     "name": "stdout",
     "output_type": "stream",
     "text": [
      "Moving /Volumes/Save/Movies/Sweeney Todd The Demon Barber Of Fleet Street [2007].mp4 to /Volumes/Save/Movies/Sweeney Todd: The Demon Barber Of Fleet Street [2007].mp4\n",
      "Moving /Volumes/Download/Movies/The King Of Kong A Fistful Of Quarters [2007].mp4 to /Volumes/Download/Movies/The King of Kong: A Fistful of Quarters [2007].mp4\n"
     ]
    }
   ],
   "source": [
    "\n",
    "moveFile(src=\"/Volumes/Save/Movies/Sweeney Todd The Demon Barber Of Fleet Street [2007].mp4\", dst=\"/Volumes/Save/Movies/Sweeney Todd: The Demon Barber Of Fleet Street [2007].mp4\", debug=True)\n",
    "\n",
    "moveFile(src=\"/Volumes/Download/Movies/The King Of Kong A Fistful Of Quarters [2007].mp4\", dst=\"/Volumes/Download/Movies/The King of Kong: A Fistful of Quarters [2007].mp4\", debug=True)"
   ]
  },
  {
   "cell_type": "code",
   "execution_count": 40,
   "metadata": {},
   "outputs": [
    {
     "name": "stdout",
     "output_type": "stream",
     "text": [
      "Moving /Volumes/Seagate/Movies/X The Man With The X Ray Eyes [1963].mp4 to /Volumes/Seagate/Movies/X: The Man With The X-Ray Eyes [1963].mp4\n"
     ]
    }
   ],
   "source": [
    "\n",
    "moveFile(src=\"/Volumes/Seagate/Movies/X The Man With The X Ray Eyes [1963].mp4\", dst=\"/Volumes/Seagate/Movies/X: The Man With The X-Ray Eyes [1963].mp4\", debug=True)"
   ]
  },
  {
   "cell_type": "code",
   "execution_count": 33,
   "metadata": {},
   "outputs": [
    {
     "name": "stdout",
     "output_type": "stream",
     "text": [
      "Goldeneye  --->  ['James Bond Goldeneye [1995]', 'Powder [1995]', 'Volunteers [1985]', 'Jade [1995]', '12 Monkeys [1995]', 'Sleepers [1996]', 'Clueless [1995]', 'Wilde [1997]', 'Se7en [1995]', 'Nixon [1995]']\n",
      "moveFile(src=\"/Volumes/Seagate/Movies/James Bond Goldeneye [1995].mkv\", dst=\"/Volumes/Seagate/Movies/James Bond Goldeneye [1995].mkv\", debug=True)\n",
      "\n"
     ]
    }
   ],
   "source": [
    "mine.searchMyMovies(\"Goldeneye\", 1995, cutoff=0.6, num=10)"
   ]
  },
  {
   "cell_type": "code",
   "execution_count": null,
   "metadata": {},
   "outputs": [],
   "source": []
  }
 ],
 "metadata": {
  "kernelspec": {
   "display_name": "Python 3",
   "language": "python",
   "name": "python3"
  },
  "language_info": {
   "codemirror_mode": {
    "name": "ipython",
    "version": 3
   },
   "file_extension": ".py",
   "mimetype": "text/x-python",
   "name": "python",
   "nbconvert_exporter": "python",
   "pygments_lexer": "ipython3",
   "version": "3.7.3"
  }
 },
 "nbformat": 4,
 "nbformat_minor": 2
}
