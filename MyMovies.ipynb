{
 "cells": [
  {
   "cell_type": "markdown",
   "metadata": {},
   "source": [
    "# List of My Movies"
   ]
  },
  {
   "cell_type": "code",
   "execution_count": 1,
   "metadata": {},
   "outputs": [
    {
     "data": {
      "text/html": [
       "<style>.container { width:100% !important; }</style>"
      ],
      "text/plain": [
       "<IPython.core.display.HTML object>"
      ]
     },
     "metadata": {},
     "output_type": "display_data"
    },
    {
     "data": {
      "text/html": [
       "<style>div.output_area{max-height:10000px;overflow:scroll;}</style>"
      ],
      "text/plain": [
       "<IPython.core.display.HTML object>"
      ]
     },
     "metadata": {},
     "output_type": "display_data"
    },
    {
     "name": "stdout",
     "output_type": "stream",
     "text": [
      "Python: 3.6.6 |Anaconda custom (64-bit)| (default, Jun 28 2018, 11:07:29) \n",
      "[GCC 4.2.1 Compatible Clang 4.0.1 (tags/RELEASE_401/final)]\n",
      "Notebook Last Run Initiated: 2019-01-30 14:49:39.223755\n"
     ]
    }
   ],
   "source": [
    "## Basic stuff\n",
    "%load_ext autoreload\n",
    "%autoreload\n",
    "from IPython.core.display import display, HTML\n",
    "display(HTML(\"<style>.container { width:100% !important; }</style>\"))\n",
    "display(HTML(\"\"\"<style>div.output_area{max-height:10000px;overflow:scroll;}</style>\"\"\"))\n",
    "\n",
    "## Python Version\n",
    "import sys\n",
    "print(\"Python: {0}\".format(sys.version))\n",
    "\n",
    "from combine import combine\n",
    "from fsUtils import moveFile\n",
    "\n",
    "\n",
    "import datetime as dt\n",
    "start = dt.datetime.now()\n",
    "print(\"Notebook Last Run Initiated: \"+str(start))"
   ]
  },
  {
   "cell_type": "code",
   "execution_count": 2,
   "metadata": {},
   "outputs": [],
   "source": [
    "import re\n",
    "from time import sleep\n",
    "from collections import OrderedDict\n",
    "from timeUtils import clock, elapsed\n",
    "from ioUtils import saveFile, getFile\n",
    "from fsUtils import setDir, isDir, mkDir, setFile, isFile, setSubFile, moveFile\n",
    "from fileUtils import getBaseFilename, getDirname, getFileBasics\n",
    "from searchUtils import findSubPatternExt, findPatternExt, findExt, findNearest\n",
    "from strUtils import convertCurrency\n",
    "from webUtils import getWebData, getHTML\n",
    "from numpy import repeat\n",
    "from movieDB import movieDB\n",
    "from os import getcwd\n",
    "from os.path import join\n",
    "from glob import glob\n",
    "import operator\n",
    "from movieRenames import manualRenames\n",
    "\n",
    "##############################################################################################################################\n",
    "# Combine Movies\n",
    "##############################################################################################################################\n",
    "class mymovies(movieDB):\n",
    "    def __init__(self, basedir=None):\n",
    "        self.name = \"mymovies\"\n",
    "        movieDB.__init__(self, dbdir=self.name)\n",
    "        self.combine = None\n",
    "        \n",
    "    def setCombinedMovies(self, combine):\n",
    "        self.combine = combine\n",
    "        \n",
    "    def getCombinedMovies(self, debug=False):        \n",
    "        savename = setFile(self.combine.getResultsDir(), \"movies.json\")\n",
    "        if not isFile(savename):\n",
    "            raise ValueErrro(\"Cannot access {0}\".format(savename))\n",
    "        combinedMovies = getFile(savename)\n",
    "        if debug:\n",
    "            print(\"Found {0} combined movies\".format(len(combinedMovies)))\n",
    "        return combinedMovies\n",
    "        \n",
    "    def getMyMovies(self, debug=False): \n",
    "        savename = setFile(self.getDataDir(), \"mymovies.json\")\n",
    "        if not isFile(savename):\n",
    "            raise ValueErrro(\"Cannot access {0}\".format(savename))\n",
    "        mine = getFile(savename)\n",
    "        if debug:\n",
    "            print(\"Found {0} my movies\".format(len(mine)))\n",
    "        return mine\n",
    "        \n",
    "    def findMyMovies(self, debug=False):\n",
    "        movies = glob(\"/Volumes/*/Movies/*\")\n",
    "        mine   = dict(zip([getBaseFilename(x) for x in movies], movies))\n",
    "        print(\"Found {0} movies on my disks\".format(len(movies)))\n",
    "        savename = setFile(self.getDataDir(), \"mymovies.json\")\n",
    "        saveFile(idata=mine, ifile=savename, debug=True)\n",
    "        \n",
    "        \n",
    "    def searchMyMovies(self, movie, year, cutoff=0.8):\n",
    "        moviesMine = self.getMyMovies()\n",
    "        key = \"{0} [{1}]\".format(movie, year)\n",
    "        result     = findNearest(key, moviesMine.keys(), 3, 0.95)\n",
    "        if len(result) > 0:\n",
    "            print(\"{0}  --->  {1}\".format(movie, result))\n",
    "            location = moviesMine[result[0]]\n",
    "            print(\"moveFile(src=\\\"{0}\\\", dst=\\\"{1}\\\", debug=True)\\n\".format(location, location))\n",
    "            return\n",
    "        else:\n",
    "            key = \"{0} [{1}]\".format(movie, year)\n",
    "            result = findNearest(key, moviesMine.keys(), 3, cutoff)\n",
    "            if len(result) > 0:\n",
    "                print(\"{0}  --->  {1}\".format(movie, result))\n",
    "                location = moviesMine[result[0]]\n",
    "                print(\"moveFile(src=\\\"{0}\\\", dst=\\\"{1}\\\", debug=True)\\n\".format(location, location))\n",
    "                return\n",
    "        print(\"No match found\")\n",
    "        return\n",
    "    \n",
    "    \n",
    "    def suggestRenames(self):\n",
    "\n",
    "        movies = glob(\"/Volumes/Download/MoviesFinished/*.*\")\n",
    "        for movie in movies:\n",
    "            fileInfo = getFileBasics(movie)\n",
    "            name = fileInfo[1]\n",
    "                        \n",
    "            ps=[\"1080\", \"720\", \"480\"]\n",
    "            for p in ps:\n",
    "                name = name.replace(\"{0}p\".format(p), \"\")\n",
    "\n",
    "            xs=['264']\n",
    "            for x in xs:\n",
    "                name = name.replace(\"x{0}\".format(x), \"\")\n",
    "            \n",
    "            ts=[\"BluRay\", \"BRrip\", \"WEBRip\", \"HDTVRip\", \"GAZ\", \"BrRip\"]\n",
    "            for t in ts:\n",
    "                name = name.replace(\"{0}\".format(t), \"\")\n",
    "                \n",
    "            vs=[\"-[YTS.AG]\", \"-[YTS.AM]\", \"YIFY\", \"[YTS.AG]\"]\n",
    "            for v in vs:\n",
    "                name = name.replace(\"{0}\".format(v), \"\")\n",
    "                \n",
    "            name = name.replace(\".\", \" \")\n",
    "            name=name.strip()\n",
    "\n",
    "            dst = join(fileInfo[0], \"\".join([name, fileInfo[2]]))\n",
    "            if name != fileInfo[1]:\n",
    "                moveFile(src=movie, dst=dst, debug=True)\n",
    "\n",
    "\n",
    "        movies = glob(\"/Volumes/Download/MoviesFinished/*.*\")   \n",
    "        for movie in movies:\n",
    "            fileInfo = getFileBasics(movie)            \n",
    "            name  = fileInfo[1][:-4].strip()\n",
    "            year  = fileInfo[1][-4:]\n",
    "            \n",
    "            try:\n",
    "                int(year)\n",
    "                name = \"{0} [{1}]\".format(name, year)\n",
    "            except:\n",
    "                print(\"Cannot rename {0}\".format(movie))\n",
    "                continue\n",
    "            \n",
    "            src = movie\n",
    "            dst = join(fileInfo[0], \"\".join([name, fileInfo[2]]))\n",
    "            moveFile(src=src, dst=dst, debug=True)\n",
    "            print(\"\")\n",
    "        \n",
    "        \n",
    "    def mergeMovies(self, toFile=False, movie=None, source=None, year=None):\n",
    "        moviesCombined = self.getCombinedMovies()\n",
    "        moviesMine     = self.getMyMovies()\n",
    "        renames        = {}\n",
    "        filename = setFile(self.getResultsDir(), \"mymovies.dat\")\n",
    "        \n",
    "        yearcut = year\n",
    "        sourcecut = source\n",
    "        moviecut = movie\n",
    "\n",
    "        if toFile:\n",
    "            print(\"{0: <6}{1: <3}{2: <100}{3: <20}\".format(\"Year\", u'\\u2713', \"Movie\", \"Source\"), file=open(filename, \"w\"))\n",
    "        else:\n",
    "            print(\"{0: <6}{1: <3}{2: <100}{3: <20}\".format(\"Year\", u'\\u2713', \"Movie\", \"Source\"))\n",
    "\n",
    "        pYear = None\n",
    "        yearRenames = {}\n",
    "        for key,name in moviesCombined.items():\n",
    "            movie   = key[:-7]\n",
    "            year = key[-5:-1]\n",
    "            \n",
    "            if yearcut is not None:\n",
    "                if int(year) not in [int(yearcut)-1,int(yearcut),int(yearcut)+1]:\n",
    "                    continue\n",
    "            if sourcecut is not None:\n",
    "                if name != sourcecut:\n",
    "                    continue\n",
    "            if moviecut is not None:\n",
    "                if moviecut not in movie:\n",
    "                    continue\n",
    "\n",
    "            location = moviesMine.get(key)\n",
    "            if location is None:\n",
    "                for dYear in [-1,1,-2,2]:\n",
    "                    dKey = \"{0} [{1}]\".format(movie, int(year)+dYear)\n",
    "                    if moviesMine.get(dKey) is not None:\n",
    "                        location = moviesMine[dKey]\n",
    "                        break\n",
    "            if location is None:\n",
    "                result = findNearest(key, moviesMine.keys(), 1, 0.98)\n",
    "\n",
    "                if len(result) > 0:\n",
    "                    location = u'\\u2248'\n",
    "                    myMovie  = moviesMine[result[0]]\n",
    "                    fileInfo = getFileBasics(myMovie)\n",
    "                    myMovieYear = fileInfo[1][-5:-1]\n",
    "\n",
    "                    yearRenames[myMovie] = join(fileInfo[0], \"\".join([key, fileInfo[2]]))\n",
    "\n",
    "                    if abs(int(year) - int(myMovieYear)) <= 0:\n",
    "                        renames[myMovie] = join(fileInfo[0], \"\".join([key, fileInfo[2]]))\n",
    "                else:\n",
    "                    result = findNearest(key, moviesMine.keys(), 1, 0.90)\n",
    "                    if len(result) > 0:\n",
    "                        location = u'\\u2047'\n",
    "                        myMovie  = moviesMine[result[0]]\n",
    "                        fileInfo = getFileBasics(myMovie)\n",
    "                        myMovieYear = fileInfo[1][-5:-1]\n",
    "\n",
    "                        yearRenames[myMovie] = join(fileInfo[0], \"\".join([key, fileInfo[2]]))\n",
    "\n",
    "                        if abs(int(year) - int(myMovieYear)) <= 0:\n",
    "                            renames[myMovie] = join(fileInfo[0], \"\".join([key, fileInfo[2]]))\n",
    "                    else:\n",
    "                        location = \"\"\n",
    "            else:\n",
    "                location = u'\\u2713'\n",
    "                \n",
    "            \n",
    "            #print(pYear,year)\n",
    "            if pYear is not None and pYear != year:\n",
    "                print(\"\\n\")\n",
    "                for key,rename in yearRenames.items():\n",
    "                    if key != rename:\n",
    "                        print(\"moveFile(src=\\\"{0}\\\", dst=\\\"{1}\\\", debug=True)\".format(key, rename))                \n",
    "                \n",
    "                print(\"\\n\")\n",
    "                yearRenames = {}\n",
    "            pYear = year\n",
    "                \n",
    "            if toFile:\n",
    "                print(\"{0: <6}{1: <3}{2: <100}{3: <20}\".format(year, location, movie, name), file=open(filename, \"a\"))\n",
    "            else:\n",
    "                print(\"{0: <6}{1: <3}{2: <100}{3: <20}\".format(year, location, movie, name))\n",
    "\n",
    "                \n",
    "                \n",
    "        print(\"\\n\")\n",
    "        for key,rename in renames.items():\n",
    "            if key != rename:\n",
    "                print(\"moveFile(src=\\\"{0}\\\", dst=\\\"{1}\\\", debug=True)\\n\".format(key, rename))"
   ]
  },
  {
   "cell_type": "code",
   "execution_count": 3,
   "metadata": {},
   "outputs": [
    {
     "name": "stdout",
     "output_type": "stream",
     "text": [
      "Current Time is Wed Jan 30, 2019 14:49:40 for Last Run\n"
     ]
    }
   ],
   "source": [
    "mine = mymovies()\n",
    "mine.setCombinedMovies(combine())\n",
    "_ = clock(\"Last Run\")"
   ]
  },
  {
   "cell_type": "code",
   "execution_count": 5,
   "metadata": {},
   "outputs": [],
   "source": [
    "mine.suggestRenames()"
   ]
  },
  {
   "cell_type": "code",
   "execution_count": 6,
   "metadata": {},
   "outputs": [
    {
     "name": "stdout",
     "output_type": "stream",
     "text": [
      "Found 5249 movies on my disks\n",
      "Saving data to /Users/tgadfort/Documents/code/movies/mymovies/data/mymovies.json\n",
      "Saved data to /Users/tgadfort/Documents/code/movies/mymovies/data/mymovies.json\n",
      "  --> This file is 425.1kB.\n",
      "Current Time is Wed Jan 30, 2019 14:50:20 for Last Run\n"
     ]
    }
   ],
   "source": [
    "mine.findMyMovies()\n",
    "_ = clock(\"Last Run\")"
   ]
  },
  {
   "cell_type": "code",
   "execution_count": 12,
   "metadata": {},
   "outputs": [
    {
     "name": "stdout",
     "output_type": "stream",
     "text": [
      "The Nutcracker  --->  ['The Nutcracker [2010]']\n",
      "moveFile(src=\"/Volumes/Download/Movies/The Nutcracker [2010].mp4\", dst=\"/Volumes/Download/Movies/The Nutcracker [2010].mp4\", debug=True)\n",
      "\n"
     ]
    }
   ],
   "source": [
    "mine.searchMyMovies(\"The Nutcracker\", 2009, cutoff=0.6)"
   ]
  },
  {
   "cell_type": "code",
   "execution_count": 13,
   "metadata": {
    "scrolled": true
   },
   "outputs": [
    {
     "name": "stdout",
     "output_type": "stream",
     "text": [
      "Year  ✓  Movie                                                                                               Source              \n",
      "1966     Mission Of Fear (Astataïon, ou Le Festin des morts)                                                 Canada              \n",
      "\n",
      "\n",
      "\n",
      "\n",
      "1982     The Missionary                                                                                      Box Office Mojo     \n",
      "\n",
      "\n",
      "\n",
      "\n",
      "1986  ✓  The Mission                                                                                         Oscar               \n",
      "\n",
      "\n",
      "\n",
      "\n",
      "1996  ✓  Mission: Impossible                                                                                 Box Office Mojo     \n",
      "\n",
      "\n",
      "\n",
      "\n",
      "2000  ✓  Mission Impossible 2                                                                                Box Office Mojo     \n",
      "2000  ✓  Mission To Mars                                                                                     Box Office Mojo     \n",
      "\n",
      "\n",
      "\n",
      "\n",
      "2006  ✓  Mission: Impossible III                                                                             Box Office Mojo     \n",
      "\n",
      "\n",
      "\n",
      "\n",
      "2011  ✓  Mission: Impossible - Ghost Protocol                                                                Rotten Tomatoes     \n",
      "\n",
      "\n",
      "\n",
      "\n",
      "2015  ✓  Mission: Impossible - Rogue Nation                                                                  Rotten Tomatoes     \n",
      "\n",
      "\n",
      "\n",
      "\n",
      "2018     Mission: Impossible - Fallout                                                                       Rotten Tomatoes     \n",
      "\n",
      "\n"
     ]
    }
   ],
   "source": [
    "mine.mergeMovies(movie=\"Mission\")"
   ]
  },
  {
   "cell_type": "code",
   "execution_count": 34,
   "metadata": {},
   "outputs": [],
   "source": [
    "\n",
    "moveFile(src=\"/Volumes/Download/Movies/Star Wars The Last Jedi [2017].mp4\", dst=\"/Volumes/Download/Movies/Star Wars: Episode VIII - The Last Jedi.mp4\")"
   ]
  },
  {
   "cell_type": "code",
   "execution_count": null,
   "metadata": {},
   "outputs": [],
   "source": []
  }
 ],
 "metadata": {
  "kernelspec": {
   "display_name": "Python 3",
   "language": "python",
   "name": "python3"
  },
  "language_info": {
   "codemirror_mode": {
    "name": "ipython",
    "version": 3
   },
   "file_extension": ".py",
   "mimetype": "text/x-python",
   "name": "python",
   "nbconvert_exporter": "python",
   "pygments_lexer": "ipython3",
   "version": "3.6.6"
  }
 },
 "nbformat": 4,
 "nbformat_minor": 2
}
