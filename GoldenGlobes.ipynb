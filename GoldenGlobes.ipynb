{
 "cells": [
  {
   "cell_type": "markdown",
   "metadata": {},
   "source": [
    "# Wikipedia Functions"
   ]
  },
  {
   "cell_type": "code",
   "execution_count": 1,
   "metadata": {},
   "outputs": [
    {
     "data": {
      "text/html": [
       "<style>.container { width:100% !important; }</style>"
      ],
      "text/plain": [
       "<IPython.core.display.HTML object>"
      ]
     },
     "metadata": {},
     "output_type": "display_data"
    },
    {
     "data": {
      "text/html": [
       "<style>div.output_area{max-height:10000px;overflow:scroll;}</style>"
      ],
      "text/plain": [
       "<IPython.core.display.HTML object>"
      ]
     },
     "metadata": {},
     "output_type": "display_data"
    },
    {
     "name": "stdout",
     "output_type": "stream",
     "text": [
      "Python: 3.6.6 |Anaconda custom (64-bit)| (default, Jun 28 2018, 11:07:29) \n",
      "[GCC 4.2.1 Compatible Clang 4.0.1 (tags/RELEASE_401/final)]\n",
      "Notebook Last Run Initiated: 2019-01-01 20:23:17.394120\n"
     ]
    }
   ],
   "source": [
    "## Basic stuff\n",
    "%load_ext autoreload\n",
    "%autoreload\n",
    "from IPython.core.display import display, HTML\n",
    "display(HTML(\"<style>.container { width:100% !important; }</style>\"))\n",
    "display(HTML(\"\"\"<style>div.output_area{max-height:10000px;overflow:scroll;}</style>\"\"\"))\n",
    "\n",
    "## Python Version\n",
    "import sys\n",
    "print(\"Python: {0}\".format(sys.version))\n",
    "\n",
    "from wikifilm import wikifilm\n",
    "from wikipedia import wikipedia\n",
    "\n",
    "from timeUtils import clock, elapsed\n",
    "import datetime as dt\n",
    "start = dt.datetime.now()\n",
    "print(\"Notebook Last Run Initiated: \"+str(start))"
   ]
  },
  {
   "cell_type": "code",
   "execution_count": 2,
   "metadata": {
    "scrolled": false
   },
   "outputs": [],
   "source": [
    "film = wikifilm()\n",
    "#film.getWikiFilmYearlyData()\n",
    "#film.processWikiFilmYearlyData()"
   ]
  },
  {
   "cell_type": "code",
   "execution_count": 127,
   "metadata": {},
   "outputs": [],
   "source": [
    "import re\n",
    "from time import sleep\n",
    "from timeUtils import clock, elapsed\n",
    "from ioUtils import saveFile, getFile\n",
    "from fsUtils import setDir, isDir, mkDir, setFile, isFile, setSubFile\n",
    "from fileUtils import getBaseFilename\n",
    "from searchUtils import findSubPatternExt, findPatternExt, findExt\n",
    "from strUtils import convertCurrency\n",
    "from webUtils import getWebData, getHTML\n",
    "from movieDB import movieDB\n",
    "from os import getcwd\n",
    "import operator\n",
    "\n",
    "\n",
    "##############################################################################################################################\n",
    "# Box Office \n",
    "##############################################################################################################################\n",
    "class GoldenGlobes(movieDB):\n",
    "    def __init__(self, basedir=None):\n",
    "        self.name = \"GoldenGlobes\"\n",
    "        movieDB.__init__(self, dbdir=self.name)\n",
    "    \n",
    "    \n",
    "    ###########################################################################################################################\n",
    "    # Get GoldenGlobes Files\n",
    "    ###########################################################################################################################\n",
    "    def downloadGoldenGlobesCategoryData(self, category, outdir, debug=False):\n",
    "\n",
    "        url  = \"https://en.wikipedia.org/wiki/Golden_Globe_Award_for_{0}\".format(category)\n",
    "        savename = setFile(outdir, category+\".p\")\n",
    "        if isFile(savename): return\n",
    "        if debug:\n",
    "            print(\"Downloading {0}\".format(url))\n",
    "        getWebData(base=url, savename=savename, useSafari=False)\n",
    "        sleep(1)\n",
    "\n",
    "\n",
    "    def getGoldenGlobesCategoryData(self, debug=False):\n",
    "        outdir = self.getDataDir()\n",
    "        if debug:\n",
    "            print(\"Data Directory: {0}\".format(outdir))\n",
    "        if not isDir(outdir): mkDir(outdir)\n",
    "\n",
    "        categories = [\"Best_Motion_Picture_-_Drama\", \"Best_Motion_Picture_-_Musical_or_Comedy\",\n",
    "                      \"Best_Animated_Feature_Film\", \"Best_Foreign_Language_Film\"]\n",
    "        for category in categories:\n",
    "            self.downloadGoldenGlobesCategoryData(category, outdir, debug)\n",
    "                \n",
    "\n",
    "                \n",
    "    \n",
    "    \n",
    "    ###########################################################################################################################\n",
    "    # Parse Box Office Weekend Files\n",
    "    ###########################################################################################################################  \n",
    "    def parseGoldenGlobesFilmData(self, table, category, debug=False):\n",
    "        filmdata = {}\n",
    "        \n",
    "        ths = table.findAll(\"th\")\n",
    "        ths = [x.text for x in ths if x is not None]\n",
    "        ths = [x.replace(\"\\n\", \"\") for x in ths]\n",
    "        \n",
    "        print(ths)\n",
    "        \n",
    "        trs  = table.findAll(\"tr\")\n",
    "        year = None\n",
    "        pbs  = None\n",
    "        for i,tr in enumerate(trs[1:]):            \n",
    "            \n",
    "            \n",
    "            tds = tr.findAll(\"td\")\n",
    "            if len(tds) == 1:\n",
    "                continue\n",
    "\n",
    "            \n",
    "            bs  = len(tr.findAll(\"b\"))\n",
    "            \n",
    "            ## Check for new year\n",
    "            if bs > 1 and pbs == 0:\n",
    "                try:\n",
    "                    year = tds[0].text\n",
    "                    year = int(year)\n",
    "                    tds  = tds[1:]\n",
    "                    \n",
    "                except:\n",
    "                    raise ValueError(\"Could not find year in {0}\".format(tds[0]))            \n",
    "\n",
    "            pbs = bs\n",
    "            tds = [x.text for x in tds]\n",
    "            tds = [x.replace(\"\\n\", \"\") for x in tds]\n",
    "            tds = [x.strip() for x in tds]                \n",
    "            tds.insert(0, year)\n",
    "\n",
    "            if tds[0] is None:\n",
    "                tds  = tds[1:]\n",
    "                try:\n",
    "                    year = int(tds[0])\n",
    "                except:\n",
    "                    raise ValueError(\"Could not find year in {0}\".format(tds[0]))      \n",
    "                \n",
    "            if len(tds) + 1 == len(ths):\n",
    "                tds.insert(2, tds[1])\n",
    "                \n",
    "                \n",
    "            #print(i,year,'\\t',len(tds),'\\t',len(ths),'\\t',tds[0],'\\t',tds[1],'\\t',tds[2])\n",
    "            #continue\n",
    "\n",
    "            #continue\n",
    "\n",
    "                \n",
    "            try:\n",
    "                row = dict(zip(ths, tds))\n",
    "            except:\n",
    "                raise ValueError(\"Could not zip: [{0}], [{1}]\".format(ths, tds))\n",
    "\n",
    "            \n",
    "            if row.get(\"Film\") is None:\n",
    "                try:\n",
    "                    row[\"Film\"] = \"{0} ({1})\".format(row[\"English title\"], row[\"Original title\"])\n",
    "                except:\n",
    "                    raise ValueError(\"Could not create film name: {0}\".format(row))\n",
    "                \n",
    "            if filmdata.get(year) is None:\n",
    "                filmdata[year] = {}\n",
    "            if filmdata[year].get(category) is None:\n",
    "                filmdata[year][category] = []\n",
    "\n",
    "            try:\n",
    "                movie = row[\"Film\"]\n",
    "            except:\n",
    "                raise ValueError(\"Cannot find movie in {0}\".format(row))\n",
    "\n",
    "            filmdata[year][category].append(movie)\n",
    "            \n",
    "\n",
    "            if debug:\n",
    "                print(\"{0: <10}{1: <20}{2}\".format(year,category,movie))\n",
    "                    \n",
    "        return filmdata\n",
    "\n",
    "\n",
    "\n",
    "    def parseGoldenGlobesCategoryData(self, ifile, category, debug = False):\n",
    "        htmldata = getFile(ifile)\n",
    "        bsdata   = getHTML(htmldata)\n",
    "            \n",
    "        data   = {}\n",
    "        done   = False\n",
    "        tables = bsdata.findAll(\"table\", {\"class\": \"wikitable\"})\n",
    "        if debug:\n",
    "            print(\"  Found {0} tables\".format(len(tables)))\n",
    "        for table in tables:\n",
    "            yeardata = self.parseGoldenGlobesFilmData(table, category, debug=False)\n",
    "            data = {**data, **yeardata}\n",
    "        \n",
    "        for year,yearData in data.items():\n",
    "            for category in yearData.keys():\n",
    "                data[year][category] = list(set(data[year][category]))\n",
    "        \n",
    "        return data\n",
    "\n",
    "\n",
    "\n",
    "    def processGoldenGlobesCategoryData(self, debug=False):\n",
    "        outdir = self.getDataDir()\n",
    "        files = findExt(outdir, ext=\"*.p\")\n",
    "\n",
    "        from collections import OrderedDict\n",
    "        movies = OrderedDict()\n",
    "        for ifile in files:\n",
    "            \n",
    "            if debug:\n",
    "                print(\"Processing {0}\".format(ifile))\n",
    "            category = getBaseFilename(ifile)\n",
    "            results  = self.parseGoldenGlobesCategoryData(ifile, category, debug=debug)\n",
    "            \n",
    "            if len(results) == 0:\n",
    "                raise ValueError(\"No results for {0}\".format(ifile))\n",
    "                \n",
    "\n",
    "            for year,yearData in results.items():\n",
    "                for category,categoryData in yearData.items():\n",
    "                    if movies.get(year) is None:\n",
    "                        movies[year] = []\n",
    "                    for movie in categoryData:\n",
    "                        movies[year].append(movie)\n",
    "\n",
    "        for year in movies.keys():\n",
    "            movies[year] = list(set(movies[year]))\n",
    "            yearlyMovies = movies[year]\n",
    "            movies[year] = []\n",
    "            for movie in yearlyMovies:\n",
    "                movies[year].append([movie,10])\n",
    "\n",
    "            print(movies[year])\n",
    "                \n",
    "        savename = setFile(self.getResultsDir(), \"{0}.json\".format(self.name))\n",
    "        print(\"Saving {0} Years of GoldenGlobes Data to {1}\".format(len(movies), savename))\n",
    "        saveFile(savename, movies)\n",
    "        #yamldata.saveYaml(savename, movies)   "
   ]
  },
  {
   "cell_type": "markdown",
   "metadata": {},
   "source": [
    "# Get/Parse/Merge/Process Wikipedia Data"
   ]
  },
  {
   "cell_type": "code",
   "execution_count": 128,
   "metadata": {},
   "outputs": [
    {
     "name": "stdout",
     "output_type": "stream",
     "text": [
      "Current Time is Sat Jan 12, 2019 18:58:44 for Last Run\n"
     ]
    }
   ],
   "source": [
    "gg = GoldenGlobes()\n",
    "_, _ = clock(\"Last Run\")"
   ]
  },
  {
   "cell_type": "code",
   "execution_count": 129,
   "metadata": {
    "scrolled": true
   },
   "outputs": [
    {
     "name": "stdout",
     "output_type": "stream",
     "text": [
      "Data Directory: /Users/tgadfort/Documents/code/movies/GoldenGlobes/data\n"
     ]
    }
   ],
   "source": [
    "gg.getGoldenGlobesCategoryData(debug=True)"
   ]
  },
  {
   "cell_type": "code",
   "execution_count": 130,
   "metadata": {},
   "outputs": [
    {
     "name": "stdout",
     "output_type": "stream",
     "text": [
      "Processing /Users/tgadfort/Documents/code/movies/GoldenGlobes/data/Best_Foreign_Language_Film.p\n",
      "  Found 6 tables\n",
      "['Year', 'English title', 'Original title', 'Director', 'Country']\n",
      "['Year', 'English title', 'Original title', 'Director', 'Country']\n",
      "['Year', 'English title', 'Original title', 'Director', 'Country']\n",
      "['Year', 'English title', 'Original title', 'Director', 'Country']\n",
      "['Year', 'English title', 'Original title', 'Director', 'Country']\n",
      "['Year', 'English title', 'Original title', 'Director', 'Country']\n",
      "Processing /Users/tgadfort/Documents/code/movies/GoldenGlobes/data/Best_Motion_Picture_-_Drama.p\n",
      "  Found 8 tables\n",
      "['Year', 'Film', 'Director[4]', 'Producer/s[5]']\n",
      "['Year', 'Film', 'Director[4]', 'Producer/s[5]']\n",
      "['Year', 'Film', 'Director[4]', 'Producer/s[5]']\n",
      "['Year', 'Film', 'Director[4]', 'Producer/s[5]']\n",
      "['Year', 'Film', 'Director[4]', 'Producer/s[5]']\n",
      "['Year', 'Film', 'Director[4]', 'Producer/s[5]']\n",
      "['Year', 'Film', 'Director[4]', 'Producer/s[5]']\n"
     ]
    },
    {
     "ename": "ValueError",
     "evalue": "Could not find year in 2000[10]",
     "output_type": "error",
     "traceback": [
      "\u001b[0;31m---------------------------------------------------------------------------\u001b[0m",
      "\u001b[0;31mValueError\u001b[0m                                Traceback (most recent call last)",
      "\u001b[0;32m<ipython-input-127-3f15f8cd725e>\u001b[0m in \u001b[0;36mparseGoldenGlobesFilmData\u001b[0;34m(self, table, category, debug)\u001b[0m\n\u001b[1;32m     96\u001b[0m                 \u001b[0;32mtry\u001b[0m\u001b[0;34m:\u001b[0m\u001b[0;34m\u001b[0m\u001b[0m\n\u001b[0;32m---> 97\u001b[0;31m                     \u001b[0myear\u001b[0m \u001b[0;34m=\u001b[0m \u001b[0mint\u001b[0m\u001b[0;34m(\u001b[0m\u001b[0mtds\u001b[0m\u001b[0;34m[\u001b[0m\u001b[0;36m0\u001b[0m\u001b[0;34m]\u001b[0m\u001b[0;34m)\u001b[0m\u001b[0;34m\u001b[0m\u001b[0m\n\u001b[0m\u001b[1;32m     98\u001b[0m                 \u001b[0;32mexcept\u001b[0m\u001b[0;34m:\u001b[0m\u001b[0;34m\u001b[0m\u001b[0m\n",
      "\u001b[0;31mValueError\u001b[0m: invalid literal for int() with base 10: '2000[10]'",
      "\nDuring handling of the above exception, another exception occurred:\n",
      "\u001b[0;31mValueError\u001b[0m                                Traceback (most recent call last)",
      "\u001b[0;32m<ipython-input-130-96dd686c15ba>\u001b[0m in \u001b[0;36m<module>\u001b[0;34m()\u001b[0m\n\u001b[0;32m----> 1\u001b[0;31m \u001b[0mgg\u001b[0m\u001b[0;34m.\u001b[0m\u001b[0mprocessGoldenGlobesCategoryData\u001b[0m\u001b[0;34m(\u001b[0m\u001b[0mdebug\u001b[0m\u001b[0;34m=\u001b[0m\u001b[0;32mTrue\u001b[0m\u001b[0;34m)\u001b[0m\u001b[0;34m\u001b[0m\u001b[0m\n\u001b[0m",
      "\u001b[0;32m<ipython-input-127-3f15f8cd725e>\u001b[0m in \u001b[0;36mprocessGoldenGlobesCategoryData\u001b[0;34m(self, debug)\u001b[0m\n\u001b[1;32m    173\u001b[0m                 \u001b[0mprint\u001b[0m\u001b[0;34m(\u001b[0m\u001b[0;34m\"Processing {0}\"\u001b[0m\u001b[0;34m.\u001b[0m\u001b[0mformat\u001b[0m\u001b[0;34m(\u001b[0m\u001b[0mifile\u001b[0m\u001b[0;34m)\u001b[0m\u001b[0;34m)\u001b[0m\u001b[0;34m\u001b[0m\u001b[0m\n\u001b[1;32m    174\u001b[0m             \u001b[0mcategory\u001b[0m \u001b[0;34m=\u001b[0m \u001b[0mgetBaseFilename\u001b[0m\u001b[0;34m(\u001b[0m\u001b[0mifile\u001b[0m\u001b[0;34m)\u001b[0m\u001b[0;34m\u001b[0m\u001b[0m\n\u001b[0;32m--> 175\u001b[0;31m             \u001b[0mresults\u001b[0m  \u001b[0;34m=\u001b[0m \u001b[0mself\u001b[0m\u001b[0;34m.\u001b[0m\u001b[0mparseGoldenGlobesCategoryData\u001b[0m\u001b[0;34m(\u001b[0m\u001b[0mifile\u001b[0m\u001b[0;34m,\u001b[0m \u001b[0mcategory\u001b[0m\u001b[0;34m,\u001b[0m \u001b[0mdebug\u001b[0m\u001b[0;34m=\u001b[0m\u001b[0mdebug\u001b[0m\u001b[0;34m)\u001b[0m\u001b[0;34m\u001b[0m\u001b[0m\n\u001b[0m\u001b[1;32m    176\u001b[0m \u001b[0;34m\u001b[0m\u001b[0m\n\u001b[1;32m    177\u001b[0m             \u001b[0;32mif\u001b[0m \u001b[0mlen\u001b[0m\u001b[0;34m(\u001b[0m\u001b[0mresults\u001b[0m\u001b[0;34m)\u001b[0m \u001b[0;34m==\u001b[0m \u001b[0;36m0\u001b[0m\u001b[0;34m:\u001b[0m\u001b[0;34m\u001b[0m\u001b[0m\n",
      "\u001b[0;32m<ipython-input-127-3f15f8cd725e>\u001b[0m in \u001b[0;36mparseGoldenGlobesCategoryData\u001b[0;34m(self, ifile, category, debug)\u001b[0m\n\u001b[1;32m    151\u001b[0m             \u001b[0mprint\u001b[0m\u001b[0;34m(\u001b[0m\u001b[0;34m\"  Found {0} tables\"\u001b[0m\u001b[0;34m.\u001b[0m\u001b[0mformat\u001b[0m\u001b[0;34m(\u001b[0m\u001b[0mlen\u001b[0m\u001b[0;34m(\u001b[0m\u001b[0mtables\u001b[0m\u001b[0;34m)\u001b[0m\u001b[0;34m)\u001b[0m\u001b[0;34m)\u001b[0m\u001b[0;34m\u001b[0m\u001b[0m\n\u001b[1;32m    152\u001b[0m         \u001b[0;32mfor\u001b[0m \u001b[0mtable\u001b[0m \u001b[0;32min\u001b[0m \u001b[0mtables\u001b[0m\u001b[0;34m:\u001b[0m\u001b[0;34m\u001b[0m\u001b[0m\n\u001b[0;32m--> 153\u001b[0;31m             \u001b[0myeardata\u001b[0m \u001b[0;34m=\u001b[0m \u001b[0mself\u001b[0m\u001b[0;34m.\u001b[0m\u001b[0mparseGoldenGlobesFilmData\u001b[0m\u001b[0;34m(\u001b[0m\u001b[0mtable\u001b[0m\u001b[0;34m,\u001b[0m \u001b[0mcategory\u001b[0m\u001b[0;34m,\u001b[0m \u001b[0mdebug\u001b[0m\u001b[0;34m=\u001b[0m\u001b[0;32mFalse\u001b[0m\u001b[0;34m)\u001b[0m\u001b[0;34m\u001b[0m\u001b[0m\n\u001b[0m\u001b[1;32m    154\u001b[0m             \u001b[0mdata\u001b[0m \u001b[0;34m=\u001b[0m \u001b[0;34m{\u001b[0m\u001b[0;34m**\u001b[0m\u001b[0mdata\u001b[0m\u001b[0;34m,\u001b[0m \u001b[0;34m**\u001b[0m\u001b[0myeardata\u001b[0m\u001b[0;34m}\u001b[0m\u001b[0;34m\u001b[0m\u001b[0m\n\u001b[1;32m    155\u001b[0m \u001b[0;34m\u001b[0m\u001b[0m\n",
      "\u001b[0;32m<ipython-input-127-3f15f8cd725e>\u001b[0m in \u001b[0;36mparseGoldenGlobesFilmData\u001b[0;34m(self, table, category, debug)\u001b[0m\n\u001b[1;32m     97\u001b[0m                     \u001b[0myear\u001b[0m \u001b[0;34m=\u001b[0m \u001b[0mint\u001b[0m\u001b[0;34m(\u001b[0m\u001b[0mtds\u001b[0m\u001b[0;34m[\u001b[0m\u001b[0;36m0\u001b[0m\u001b[0;34m]\u001b[0m\u001b[0;34m)\u001b[0m\u001b[0;34m\u001b[0m\u001b[0m\n\u001b[1;32m     98\u001b[0m                 \u001b[0;32mexcept\u001b[0m\u001b[0;34m:\u001b[0m\u001b[0;34m\u001b[0m\u001b[0m\n\u001b[0;32m---> 99\u001b[0;31m                     \u001b[0;32mraise\u001b[0m \u001b[0mValueError\u001b[0m\u001b[0;34m(\u001b[0m\u001b[0;34m\"Could not find year in {0}\"\u001b[0m\u001b[0;34m.\u001b[0m\u001b[0mformat\u001b[0m\u001b[0;34m(\u001b[0m\u001b[0mtds\u001b[0m\u001b[0;34m[\u001b[0m\u001b[0;36m0\u001b[0m\u001b[0;34m]\u001b[0m\u001b[0;34m)\u001b[0m\u001b[0;34m)\u001b[0m\u001b[0;34m\u001b[0m\u001b[0m\n\u001b[0m\u001b[1;32m    100\u001b[0m \u001b[0;34m\u001b[0m\u001b[0m\n\u001b[1;32m    101\u001b[0m             \u001b[0;32mif\u001b[0m \u001b[0mlen\u001b[0m\u001b[0;34m(\u001b[0m\u001b[0mtds\u001b[0m\u001b[0;34m)\u001b[0m \u001b[0;34m+\u001b[0m \u001b[0;36m1\u001b[0m \u001b[0;34m==\u001b[0m \u001b[0mlen\u001b[0m\u001b[0;34m(\u001b[0m\u001b[0mths\u001b[0m\u001b[0;34m)\u001b[0m\u001b[0;34m:\u001b[0m\u001b[0;34m\u001b[0m\u001b[0m\n",
      "\u001b[0;31mValueError\u001b[0m: Could not find year in 2000[10]"
     ]
    }
   ],
   "source": [
    "gg.processGoldenGlobesCategoryData(debug=True)"
   ]
  },
  {
   "cell_type": "code",
   "execution_count": null,
   "metadata": {},
   "outputs": [],
   "source": []
  },
  {
   "cell_type": "code",
   "execution_count": null,
   "metadata": {},
   "outputs": [],
   "source": []
  }
 ],
 "metadata": {
  "kernelspec": {
   "display_name": "Python 3",
   "language": "python",
   "name": "python3"
  },
  "language_info": {
   "codemirror_mode": {
    "name": "ipython",
    "version": 3
   },
   "file_extension": ".py",
   "mimetype": "text/x-python",
   "name": "python",
   "nbconvert_exporter": "python",
   "pygments_lexer": "ipython3",
   "version": "3.6.6"
  }
 },
 "nbformat": 4,
 "nbformat_minor": 2
}
