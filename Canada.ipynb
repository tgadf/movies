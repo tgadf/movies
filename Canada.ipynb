{
 "cells": [
  {
   "cell_type": "markdown",
   "metadata": {},
   "source": [
    "# BAFTA Functions"
   ]
  },
  {
   "cell_type": "code",
   "execution_count": 46,
   "metadata": {},
   "outputs": [
    {
     "name": "stdout",
     "output_type": "stream",
     "text": [
      "The autoreload extension is already loaded. To reload it, use:\n",
      "  %reload_ext autoreload\n"
     ]
    },
    {
     "data": {
      "text/html": [
       "<style>.container { width:100% !important; }</style>"
      ],
      "text/plain": [
       "<IPython.core.display.HTML object>"
      ]
     },
     "metadata": {},
     "output_type": "display_data"
    },
    {
     "data": {
      "text/html": [
       "<style>div.output_area{max-height:10000px;overflow:scroll;}</style>"
      ],
      "text/plain": [
       "<IPython.core.display.HTML object>"
      ]
     },
     "metadata": {},
     "output_type": "display_data"
    },
    {
     "name": "stdout",
     "output_type": "stream",
     "text": [
      "Python: 3.6.6 |Anaconda custom (64-bit)| (default, Jun 28 2018, 11:07:29) \n",
      "[GCC 4.2.1 Compatible Clang 4.0.1 (tags/RELEASE_401/final)]\n",
      "Notebook Last Run Initiated: 2019-01-12 11:46:22.956472\n"
     ]
    }
   ],
   "source": [
    "## Basic stuff\n",
    "%load_ext autoreload\n",
    "%autoreload\n",
    "from IPython.core.display import display, HTML\n",
    "display(HTML(\"<style>.container { width:100% !important; }</style>\"))\n",
    "display(HTML(\"\"\"<style>div.output_area{max-height:10000px;overflow:scroll;}</style>\"\"\"))\n",
    "\n",
    "## Python Version\n",
    "import sys\n",
    "print(\"Python: {0}\".format(sys.version))\n",
    "\n",
    "from canada import Canada\n",
    "\n",
    "from timeUtils import clock, elapsed\n",
    "import datetime as dt\n",
    "start = dt.datetime.now()\n",
    "print(\"Notebook Last Run Initiated: \"+str(start))"
   ]
  },
  {
   "cell_type": "code",
   "execution_count": null,
   "metadata": {},
   "outputs": [],
   "source": []
  },
  {
   "cell_type": "markdown",
   "metadata": {},
   "source": [
    "# Get/Parse/Merge/Process Wikipedia Data"
   ]
  },
  {
   "cell_type": "code",
   "execution_count": 47,
   "metadata": {},
   "outputs": [
    {
     "name": "stdout",
     "output_type": "stream",
     "text": [
      "Current Time is Sat Jan 12, 2019 11:46:26 for Last Run\n"
     ]
    }
   ],
   "source": [
    "can = Canada()\n",
    "_, _ = clock(\"Last Run\")"
   ]
  },
  {
   "cell_type": "code",
   "execution_count": 48,
   "metadata": {
    "scrolled": true
   },
   "outputs": [
    {
     "name": "stdout",
     "output_type": "stream",
     "text": [
      "Data Directory: /Users/tgadfort/Documents/code/movies/canada/data\n"
     ]
    }
   ],
   "source": [
    "can.getCanadaCategoryData(debug=True)"
   ]
  },
  {
   "cell_type": "code",
   "execution_count": 49,
   "metadata": {
    "scrolled": false
   },
   "outputs": [
    {
     "name": "stdout",
     "output_type": "stream",
     "text": [
      "Processing /Users/tgadfort/Documents/code/movies/canada/data/Best_Motion_Picture.p\n",
      "  Found 10 tables\n",
      "1949 [[\"The Loon's Necklace\", 10]]\n",
      "1952 [['Newfoundland Scene', 10]]\n",
      "1953 [['Tit-Coq', 10]]\n",
      "1954 [['The Seasons', 10]]\n",
      "1955 [['The Stratford Adventure', 10]]\n",
      "1958 [['City of Gold', 10]]\n",
      "1961 [['Universe', 10]]\n",
      "1963 [['Lonely Boy', 10]]\n",
      "1964 [['À tout prendre', 10], ['Amanita Pestilens', 10], ['Trouble-Maker (Trouble fête)', 10]]\n",
      "1966 [['Mission of Fear (Astataïon, ou Le Festin des morts)', 10]]\n",
      "1967 [['Warrendale', 10]]\n",
      "1968 [['The Man Who Wanted Nothing', 10], [\"It Isn't Jacques Cartier's Fault (C'est pas la faute à Jacques Cartier)\", 10], ['The Times That Are (Le Règne du jour)', 10], ['The Ernie Game', 10], ['The Paper People', 10], ['Kid Sentiment', 10], ['Waiting for Caroline', 10]]\n",
      "1969 [['The Best Damn Fiddler from Calabogie to Kaladar', 10]]\n",
      "1970 [[\"Goin' Down the Road\", 10]]\n",
      "1974 [['The Apprenticeship of Duddy Kravitz', 10]]\n",
      "1975 [['Why Rock the Boat?', 10], [\"Eliza's Horoscope\", 10], ['Child Under a Leaf', 10], ['Black Christmas', 10], ['Lions for Breakfast', 10], ['The Apprenticeship of Duddy Kravitz', 10], ['A Quiet Day in Belfast', 10], ['Orders (Les Ordres)', 10], ['Sudden Fury', 10], ['Monkeys in the Attic', 10], ['125 Rooms of Comfort', 10]]\n",
      "1965 [['The Cat in the Bag (Le Chat dans le sac)', 10], ['Nobody Waved Good-bye', 10], ['Sweet Substitute', 10], ['The Luck of Ginger Coffey', 10]]\n",
      "1971 [['Mon oncle Antoine', 10]]\n",
      "1972 [['Wedding in White', 10]]\n",
      "1973 [['Kamouraska', 10], ['Slipstream', 10], ['Between Friends', 10], ['Réjeanne Padovani', 10], ['Paperback Hero', 10]]\n",
      "1976 [['Brethren', 10], ['Goldenrod', 10], ['Partis pour la gloire', 10], ['Lies My Father Told Me', 10], ['Partners', 10], ['Second Wind', 10], ['The Far Shore', 10], ['Normande (La tête de Normande St-Onge)', 10]]\n",
      "1977 [['J.A. Martin Photographer (J.A. Martin photographe)', 10], ['One Man', 10], ['Why Shoot the Teacher?', 10], ['Outrageous!', 10]]\n",
      "1978 [['Blood and Guts', 10], ['Three Card Monte', 10], ['The Silent Partner', 10], ['In Praise of Older Women', 10]]\n",
      "1980 [['Meatballs', 10], ['Running', 10], ['Cordélia', 10], ['The Changeling', 10], ['Klondike Fever', 10]]\n",
      "1981 [[\"The Handyman (L'Homme à tout faire)\", 10], ['Good Riddance (Les Bons débarras)', 10], ['The Lucky Star', 10], ['The Hounds of Notre Dame', 10], ['Tribute', 10]]\n",
      "1982 [['The Plouffe Family (Les Plouffe)', 10], ['Ticket to Heaven', 10], ['The Amateur', 10], ['Scanners', 10], ['Heartaches', 10]]\n",
      "1983 [['Harry Tracy, Desperado', 10], ['Threshold', 10], ['The Grey Fox', 10], ['A Day in a Taxi (Une journée en taxi)', 10], ['Quest for Fire (La Guerre du feu)', 10]]\n",
      "1984 [['Maria Chapdelaine', 10], ['Lucien Brouillard', 10], ['A Christmas Story', 10], ['The Terry Fox Story', 10], ['The Wars', 10]]\n",
      "1985 [['Mario', 10], [\"A Woman in Transit (La Femme de l'hôtel)\", 10], ['The Bay Boy', 10], ['The Dog Who Stopped the War (La Guerre des tuques)', 10]]\n",
      "1986 [['My American Cousin', 10], ['Joshua Then and Now', 10], ['The Alley Cat (Le Matou)', 10], ['90 Days', 10], ['One Magic Christmas', 10]]\n",
      "1987 [['Loyalties', 10], ['Dancing in the Dark', 10], ['Intimate Power (Pouvoir intime)', 10], ['John and the Missus', 10], [\"The Decline of the American Empire (Le Déclin de l'empire américain)\", 10]]\n",
      "1988 [['Life Classes', 10], ['Train of Dreams', 10], ['Night Zoo (Un Zoo la nuit)', 10], [\"I've Heard the Mermaids Singing\", 10], ['Family Viewing', 10]]\n",
      "1989 [['Straight for the Heart (À corps perdu)', 10], ['A Winter Tan', 10], ['Dead Ringers', 10], ['The Revolving Doors (Les Portes tournantes)', 10], ['The Outside Chance of Maximilian Glick', 10]]\n",
      "1990 [['Cold Comfort', 10], ['Bye Bye Blues', 10], ['Jesus of Montreal (Jésus de Montréal)', 10], ['Speaking Parts', 10], ['Termini Station', 10]]\n",
      "1991 [['Black Robe', 10], ['The Company of Strangers', 10], ['Chaindance', 10], ['An Imaginary Tale (Une histoire inventée)', 10], ['Perfectly Normal', 10]]\n",
      "1992 [['Léolo', 10], ['La Sarrasine', 10], ['Being at Home with Claude', 10], ['Naked Lunch', 10], ['Requiem for a Handsome Bastard (Requiem pour un beau sans-cœur)', 10]]\n",
      "1993 [['The Lotus Eaters', 10], ['The Sex of the Stars (Le Sexe des étoiles)', 10], ['Harmony Cats', 10], ['La Florida', 10], ['Thirty Two Short Films About Glenn Gould', 10]]\n",
      "1994 [['My Friend Max (Mon amie Max)', 10], ['Exotica', 10], ['Double Happiness', 10], ['Whale Music', 10], ['Louis 19, King of the Airwaves (Louis 19, le roi des ondes)', 10]]\n",
      "1995 [['Rude', 10], ['The Confessional (Le Confessionnal)', 10], ['Magic in the Water', 10], ['Black List (Liste noire)', 10], [\"Margaret's Museum\", 10]]\n",
      "1996 [['Lilies', 10], ['Polygraph (Le Polygraphe)', 10], ['Crash', 10], ['Hard Core Logo', 10], [\"Long Day's Journey into Night\", 10]]\n",
      "1997 [['The Sweet Hereafter', 10], ['Karmina', 10], ['Kissed', 10], ['Cosmos', 10], ['The Hanging Garden', 10]]\n",
      "1998 [['Regeneration', 10], ['Last Night', 10], [\"Rupert's Land\", 10], ['The Red Violin (Le Violon rouge)', 10], ['Such a Long Journey', 10]]\n",
      "1999 [['Post Mortem', 10], [\"Felicia's Journey\", 10], ['Sunshine', 10], ['The Five Senses', 10], ['eXistenZ', 10], [\"Winter Stories (Histoires d'hiver)\", 10]]\n",
      "2000 [['Stardom', 10], ['Possible Worlds', 10], ['Love Come Down', 10], ['Maelström', 10], ['New Waterford Girl', 10], ['To Walk with Lions', 10]]\n",
      "2001 [['Atanarjuat: The Fast Runner', 10], ['Eisenstein', 10], ['Treed Murray', 10], ['The War Bride', 10], ['Soft Shell Man (Un crabe dans la tête)', 10]]\n",
      "2002 [['Rare Birds', 10], ['Bollywood/Hollywood', 10], ['Québec-Montréal', 10], ['Ararat', 10], ['Suddenly Naked', 10]]\n",
      "2003 [['Far Side of the Moon (La Face cachée de la lune)', 10], ['Owning Mahowny', 10], ['The Barbarian Invasions (Les Invasions barbares)', 10], ['The Snow Walker', 10], ['Seducing Doctor Lewis (La Grande séduction)', 10]]\n",
      "2004 [['Love, Sex and Eating the Bones', 10], ['Bittersweet Memories (Ma vie en cinémascope)', 10], ['Being Julia', 10], ['The Triplets of Belleville (Les Triplettes de Belleville)', 10], ['Looking for Alexander (Mémoires affectives)', 10]]\n",
      "2005 [['Water', 10], [\"It's All Gone Pete Tong\", 10], ['C.R.A.Z.Y.', 10], ['Familia', 10], ['Saint Ralph', 10]]\n",
      "2006 [['The Rocket (Maurice Richard)', 10], ['A Sunday in Kigali (Un dimanche à Kigali)', 10], ['Bon Cop, Bad Cop', 10], ['Trailer Park Boys: The Movie', 10], ['The Little Book of Revenge (Guide de la petit vengeance)', 10]]\n",
      "2007 [['Continental, a Film Without Guns (Continental, un film sans fusil)', 10], ['Away from Her', 10], [\"Days of Darkness (L'Âge des ténèbres)\", 10], ['Eastern Promises', 10], ['Shake Hands With the Devil', 10]]\n",
      "2008 [['Amal', 10], ['Passchendaele', 10], [\"The Necessities of Life (Ce qu'il faut pour vivre)\", 10], ['Normal', 10], ['Everything Is Fine (Tout est parfait)', 10]]\n",
      "2009 [['Nurse.Fighter.Boy', 10], ['Before Tomorrow (Le jour avant le lendemain)', 10], ['Polytechnique', 10], ['Fifty Dead Men Walking', 10], ['3 Seasons (3 saisons)', 10]]\n",
      "2010 [['Incendies', 10], [\"Barney's Version\", 10], ['Heartbeats (Les Amours imaginaires)', 10], ['10½', 10], ['Splice', 10]]\n",
      "2011 [['A Dangerous Method', 10], ['Monsieur Lazhar', 10], ['The Whistleblower', 10], ['Starbuck', 10], ['Café de Flore', 10]]\n",
      "2012 [['Still Mine', 10], ['Laurence Anyways', 10], [\"Midnight's Children\", 10], [\"Inch'Allah\", 10], ['War Witch (Rebelle)', 10], [\"L'Affaire Dumont\", 10]]\n",
      "2013 [['The Dismantling (Le Démantèlement)', 10], ['Tom at the Farm (Tom à la ferme)', 10], ['Enemy', 10], ['The F Word', 10], ['The Grand Seduction', 10], ['Empire of Dirt', 10], ['Maïna', 10], ['Gabrielle', 10]]\n",
      "2014 [['Maps to the Stars', 10], ['Mommy', 10], ['Cast No Shadow', 10], ['Tu dors Nicole', 10], ['In Her Place', 10], ['Fall', 10]]\n",
      "2015 [['The Demons (Les Démons)', 10], ['Brooklyn', 10], ['Sleeping Giant', 10], ['Felix and Meira (Félix et Meira)', 10], ['The Forbidden Room', 10], ['Our Loved Ones (Les Êtres chers)', 10], ['Corbo', 10], [\"My Internship in Canada (Guibord s'en va-t'en-guerre)\", 10], ['Room', 10], ['Remember', 10]]\n",
      "2016 [['Race', 10], [\"Those Who Make Revolution Halfway Only Dig Their Own Graves (Ceux qui font les révolutions à moitié n'ont fait que se creuser un tombeau)\", 10], ['Weirdos', 10], ['Searchers (Maliglutit)', 10], ['Operation Avalanche', 10], [\"It's Only the End of the World (Juste la fin du monde)\", 10], ['Old Stone', 10], ['Bad Seeds (Les mauvaises herbes)', 10], ['Hello Destroyer', 10], ['Before the Streets (Avant les rues)', 10]]\n",
      "2017 [['The Little Girl Who Was Too Fond of Matches (La petite fille qui aimait trop les allumettes)', 10], ['The Breadwinner', 10], ['Maudie', 10], ['Ava', 10], ['Ravenous (Les Affamés)', 10], ['Never Steady, Never Still', 10], [\"It's the Heart That Dies Last (C'est le cœur qui meurt en dernier)\", 10]]\n",
      "Saving 61 Years of Canada Data to /Users/tgadfort/Documents/code/movies/canada/results/canada.json\n"
     ]
    }
   ],
   "source": [
    "can.processCanadaCategoryData(debug=True)"
   ]
  },
  {
   "cell_type": "code",
   "execution_count": null,
   "metadata": {},
   "outputs": [],
   "source": []
  },
  {
   "cell_type": "code",
   "execution_count": null,
   "metadata": {},
   "outputs": [],
   "source": []
  }
 ],
 "metadata": {
  "kernelspec": {
   "display_name": "Python 3",
   "language": "python",
   "name": "python3"
  },
  "language_info": {
   "codemirror_mode": {
    "name": "ipython",
    "version": 3
   },
   "file_extension": ".py",
   "mimetype": "text/x-python",
   "name": "python",
   "nbconvert_exporter": "python",
   "pygments_lexer": "ipython3",
   "version": "3.6.6"
  }
 },
 "nbformat": 4,
 "nbformat_minor": 2
}
