{
 "cells": [
  {
   "cell_type": "markdown",
   "metadata": {},
   "source": [
    "# Combine Movie Functions"
   ]
  },
  {
   "cell_type": "code",
   "execution_count": 8,
   "metadata": {},
   "outputs": [
    {
     "name": "stdout",
     "output_type": "stream",
     "text": [
      "The autoreload extension is already loaded. To reload it, use:\n",
      "  %reload_ext autoreload\n"
     ]
    },
    {
     "data": {
      "text/html": [
       "<style>.container { width:100% !important; }</style>"
      ],
      "text/plain": [
       "<IPython.core.display.HTML object>"
      ]
     },
     "metadata": {},
     "output_type": "display_data"
    },
    {
     "data": {
      "text/html": [
       "<style>div.output_area{max-height:10000px;overflow:scroll;}</style>"
      ],
      "text/plain": [
       "<IPython.core.display.HTML object>"
      ]
     },
     "metadata": {},
     "output_type": "display_data"
    },
    {
     "name": "stdout",
     "output_type": "stream",
     "text": [
      "Python: 3.6.6 |Anaconda custom (64-bit)| (default, Jun 28 2018, 11:07:29) \n",
      "[GCC 4.2.1 Compatible Clang 4.0.1 (tags/RELEASE_401/final)]\n",
      "Notebook Last Run Initiated: 2019-01-06 00:13:28.703593\n"
     ]
    }
   ],
   "source": [
    "## Basic stuff\n",
    "%load_ext autoreload\n",
    "%autoreload\n",
    "from IPython.core.display import display, HTML\n",
    "display(HTML(\"<style>.container { width:100% !important; }</style>\"))\n",
    "display(HTML(\"\"\"<style>div.output_area{max-height:10000px;overflow:scroll;}</style>\"\"\"))\n",
    "\n",
    "## Python Version\n",
    "import sys\n",
    "print(\"Python: {0}\".format(sys.version))\n",
    "\n",
    "from wikipedia import wikipedia\n",
    "from wikifilm import wikifilm\n",
    "from oscar import oscars\n",
    "from razzies import razzies\n",
    "from boxofficemojo import boxofficemojo\n",
    "from rottentomatoes import rottentomatoes\n",
    "from ultimatemovierankings import ultimatemovierankings\n",
    "from combine import combine\n",
    "\n",
    "\n",
    "import datetime as dt\n",
    "start = dt.datetime.now()\n",
    "print(\"Notebook Last Run Initiated: \"+str(start))"
   ]
  },
  {
   "cell_type": "markdown",
   "metadata": {},
   "source": [
    "# Get/Parse/Merge/Process Rotten Tomatoes Data"
   ]
  },
  {
   "cell_type": "code",
   "execution_count": 15,
   "metadata": {},
   "outputs": [
    {
     "name": "stdout",
     "output_type": "stream",
     "text": [
      "The autoreload extension is already loaded. To reload it, use:\n",
      "  %reload_ext autoreload\n",
      "Found 36 Years of Box Office Mojo Movies\n",
      "Found 97 Years of Wiki Film Movies\n",
      "Found 93 Years of Rotten Tomatoes Movies\n",
      "Found 67 Years of Ultimate Movie Rankings Movies\n",
      "Found 38 Years of Razzies Movies\n",
      "Found 84 Years of Oscar Movies\n",
      "Found Data Between 1915 and 2017\n",
      "Found 506 old corrections\n",
      "Found 1 new corrections\n",
      "Adding Larry The Cable Guy: Health Inspector\n",
      "Saving data to /Users/tgadfort/Documents/code/movies/combine/data/saved.yaml\n",
      "Saved data to /Users/tgadfort/Documents/code/movies/combine/data/saved.yaml\n",
      "  --> This file is 25.1kB.\n",
      "There are 507 total corrections\n",
      "Found 2994 movies\n",
      "\t ('Box Office Mojo', 674)\n",
      "\t ('Rotten Tomatoes', 542)\n",
      "\t ('Wiki Film', 527)\n",
      "\t ('Oscar', 446)\n",
      "\t ('Razzies', 413)\n",
      "\t ('Ultimate Movie Rankings', 392)\n",
      "There are 2879 final movies\n",
      "Saving data to /Users/tgadfort/Documents/code/movies/combine/results/movies.json\n",
      "Saved data to /Users/tgadfort/Documents/code/movies/combine/results/movies.json\n",
      "  --> This file is 127.3kB.\n"
     ]
    }
   ],
   "source": [
    "%load_ext autoreload\n",
    "%autoreload\n",
    "\n",
    "comb = combine()\n",
    "comb.setOscarData(oscars(wikipedia()), 100)\n",
    "comb.setWikiFilmData(wikifilm(), 1)\n",
    "comb.setRazziesData(razzies(), 1)\n",
    "comb.setRottenTomatoesData(rottentomatoes(), 95)\n",
    "comb.setBoxOfficeMojoData(boxofficemojo(), 100e6)\n",
    "comb.setUltimateMovieRankingsData(ultimatemovierankings(), 90)\n",
    "comb.getData()\n",
    "comb.saveCorrections(debug=True)\n",
    "comb.mergeMovies(debug=True)"
   ]
  },
  {
   "cell_type": "markdown",
   "metadata": {},
   "source": [
    "# Find Corrections"
   ]
  },
  {
   "cell_type": "code",
   "execution_count": 48,
   "metadata": {},
   "outputs": [
    {
     "name": "stdout",
     "output_type": "stream",
     "text": [
      "0 / 2877\n",
      "100 / 2877\n",
      "0 \t Dr. Jekyll And Mr. Hyde\n",
      "1 \t Tarzan The Ape Man\n",
      "200 / 2877\n",
      "300 / 2877\n",
      "400 / 2877\n",
      "500 / 2877\n",
      "2 \t Cheaper By The Dozen\n",
      "3 \t Come Back, Little Sheba\n",
      "4 \t Come Back Little Sheba\n",
      "600 / 2877\n",
      "5 \t Rebel Without A Cause\n",
      "6 \t Rebel without A Cause\n",
      "700 / 2877\n",
      "800 / 2877\n",
      "7 \t The Pink Panther\n",
      "900 / 2877\n",
      "1000 / 2877\n",
      "8 \t Smokey And The Bandit\n",
      "1100 / 2877\n",
      "9 \t Alien\n",
      "10 \t Rocky II\n",
      "11 \t Smokey And The Bandit II\n",
      "12 \t Tarzan, The Ape Man\n",
      "1200 / 2877\n",
      "13 \t Rocky III\n",
      "14 \t Beverly Hills Cop\n",
      "15 \t Back To The Future I\n",
      "16 \t Rocky IV\n",
      "17 \t Aliens\n",
      "1300 / 2877\n",
      "18 \t Crocodile Dundee\n",
      "19 \t The Karate Kid Part II\n",
      "20 \t Lethal Weapon 1\n",
      "21 \t Beverly Hills Cop II\n",
      "22 \t Crocodile Dundee II\n",
      "23 \t The Karate Kid: Part III\n",
      "24 \t The Karate Kid Part III\n",
      "25 \t Lethal Weapon 2\n",
      "26 \t Rocky V\n",
      "1400 / 2877\n",
      "27 \t Back To The Future II\n",
      "28 \t Back To The Future III\n",
      "29 \t Basic Instinct\n",
      "30 \t Lethal Weapon 3\n",
      "1500 / 2877\n",
      "31 \t The Santa Clause\n",
      "32 \t Toy Story\n",
      "33 \t Dr. Jekyll And Ms. Hyde\n",
      "34 \t Mission Impossible\n",
      "1600 / 2877\n",
      "35 \t Men In Black\n",
      "36 \t Rush Hour\n",
      "37 \t Lethal Weapon 4\n",
      "38 \t Dr. Dolittle\n",
      "39 \t Toy Story 2\n",
      "40 \t American Pie\n",
      "1700 / 2877\n",
      "41 \t Mission Impossible II\n",
      "42 \t Rush Hour 2\n",
      "43 \t American Pie 2\n",
      "44 \t Dr. Dolittle 2\n",
      "1800 / 2877\n",
      "45 \t Star Wars Episode II: Attack Of The Clones\n",
      "46 \t Spider-Man\n",
      "47 \t Star Wars Episode II Attack Of The Clones\n",
      "48 \t The Santa Clause 2\n",
      "1900 / 2877\n",
      "49 \t Spider-Man 2\n",
      "50 \t Cheaper By The Dozen 2\n",
      "2000 / 2877\n",
      "51 \t Little Man\n",
      "52 \t Basic Instinct 2\n",
      "53 \t Mission Impossible III\n",
      "54 \t Spider-Man 3\n",
      "55 \t Rush Hour 3\n",
      "2100 / 2877\n",
      "56 \t The Hottie And The Nottie\n",
      "57 \t The Hottie & The Nottie\n",
      "58 \t Kung Fu Panda\n",
      "59 \t Sex And The City\n",
      "60 \t The Pink Panther 2\n",
      "2200 / 2877\n",
      "61 \t Fast And Furious\n",
      "62 \t Paul Blart Mall Cop\n",
      "63 \t Cloudy With A Chance Of Meatballs\n",
      "64 \t Paranormal Activity\n",
      "65 \t Toy Story 3\n",
      "66 \t How To Train Your Dragon\n",
      "67 \t Sex And The City 2\n",
      "68 \t Iron Man 2\n",
      "69 \t Harry Potter 7 And The Deathly Hallows Part 1\n",
      "70 \t Despicable Me\n",
      "71 \t Grown Ups\n",
      "2300 / 2877\n",
      "72 \t Harry Potter 7 And The Deathly Hallows Part 2\n",
      "73 \t The Twilight Saga: Breaking Dawn Part 1\n",
      "74 \t Harry Potter And The Deathly Hallows: Part 2\n",
      "75 \t Mission Impossible IV: Ghost Protocol\n",
      "76 \t Rise Of thePlanet Of The Apes\n",
      "77 \t Rise Of The Planet Of The Apes\n",
      "78 \t Twilight Breaking Dawn Part 1\n",
      "79 \t The Hangover: Part II\n",
      "80 \t Fast And Furious 5\n",
      "81 \t Kung Fu Panda 2\n",
      "82 \t Mission Impossible 4 Ghost Protocol\n",
      "83 \t Paranormal Activity 3\n",
      "2400 / 2877\n",
      "84 \t The Twilight Saga: Breaking Dawn Part 2\n",
      "85 \t Twilight Breaking Dawn Part 2\n",
      "86 \t The Amazing Spider-Man\n",
      "87 \t Men In Black 3\n",
      "88 \t Hotel Transylvania\n",
      "89 \t 21 Jump Street\n",
      "90 \t Grown Ups 2\n",
      "91 \t Iron Man 3\n",
      "92 \t Despicable Me 2\n",
      "2500 / 2877\n",
      "93 \t The Conjuring\n",
      "94 \t Cloudy With A Chance Of Meatballs 2\n",
      "95 \t The Hangover: Part III\n",
      "96 \t How To Train Your Dragon 2\n",
      "97 \t The Hunger Games: Mockingjay Part 1\n",
      "98 \t The Amazing Spider-Man 2\n",
      "99 \t 22 Jump Street\n",
      "2600 / 2877\n",
      "100 \t Paul Blart Mall Cop 2\n",
      "101 \t Star Wars: The Force Awakens\n",
      "102 \t Mission Impossible V: Rogue Nation\n",
      "103 \t The Hunger Games: Mockingjay Part 2\n",
      "104 \t Mission Impossible 5 Rogue Nation\n",
      "105 \t Hotel Transylvania 2\n",
      "106 \t Mission: Impossible – Rogue Nation\n",
      "2700 / 2877\n",
      "107 \t Little Men\n",
      "108 \t Boo! A Madea Halloween\n",
      "109 \t Daddy's Home\n",
      "110 \t Kung Fu Panda 3\n",
      "111 \t The Conjuring 2\n",
      "2800 / 2877\n",
      "112 \t Daddy's Home 2\n",
      "113 \t Boo 2! A Madea Halloween\n",
      "114 \t Spider-Man: Homecoming\n",
      "115 \t Spider-Man Homecoming\n",
      "116 \t Despicable Me 3\n",
      "Saving data to /Users/tgadfort/Documents/code/movies/combine/data/corr.yaml\n",
      "Saved data to /Users/tgadfort/Documents/code/movies/combine/data/corr.yaml\n",
      "  --> This file is 6.2kB.\n"
     ]
    }
   ],
   "source": [
    "data = {}\n",
    "from searchUtils import findNearest\n",
    "\n",
    "savename = setFile(comb.getDataDir(), \"saved.yaml\")\n",
    "savedData = getFile(savename)\n",
    "\n",
    "movies = comb.getCombinedMovies()\n",
    "\n",
    "repData = {}\n",
    "for corrMovie,corrs in savedData.items():\n",
    "    for corr in corrs:\n",
    "        repData[corr] = corrMovie\n",
    "\n",
    "\n",
    "        \n",
    "movielist = [x[:-7] for x,name in movies.items()] # if name in [\"Oscar\", 'Rotten Tomatoes', 'Box Office']]\n",
    "for i,movie in enumerate(movielist):\n",
    "    if repData.get(movie):\n",
    "        #print([movielist[i]],' -> ',[repData[movie]])\n",
    "        movielist[i] = repData[movie]\n",
    "\n",
    "cutoff = 0.9\n",
    "#for key,name in movies.items():\n",
    "#    movie = key[:-7]\n",
    "for im,movie in enumerate(movielist):\n",
    "    if movie.find(\"IMAX\") != -1:\n",
    "        continue\n",
    "    if movie.find(\"re-issue\") != -1:\n",
    "        continue\n",
    "\n",
    "    if im % 100 == 0:\n",
    "        print(im,'/',len(movielist))\n",
    "    if movie.endswith(' '):        \n",
    "        if data.get(movie[:-1]) is None:\n",
    "            print(len(data),'\\t',movie[:-1])\n",
    "            data[movie[:-1]] = set()\n",
    "            data[movie[:-1]].add(movie)\n",
    "        tmpList = list(filter(lambda a: a != movie[:-1], movielist))\n",
    "        results = findNearest(movie[:-1], tmpList, 3, cutoff)\n",
    "        if len(results) > 0:\n",
    "            for value in results:\n",
    "                data[movie[:-1]].add(value)\n",
    "    else:\n",
    "        tmpList = list(filter(lambda a: a != movie, movielist))    \n",
    "        results = findNearest(movie, tmpList, 3, cutoff)\n",
    "        if len(results) > 0:\n",
    "            if data.get(movie) is None:\n",
    "                print(len(data),'\\t',movie)\n",
    "                data[movie] = set()\n",
    "            for value in results:\n",
    "                data[movie].add(value)\n",
    "                \n",
    "    if len(data) > 300:\n",
    "        break\n",
    "        \n",
    "for k in data.keys():\n",
    "    data[k] = list(data[k])\n",
    "\n",
    "savename = setFile(comb.getDataDir(), \"corr.yaml\")\n",
    "saveFile(idata=data, ifile=savename, debug=True)"
   ]
  },
  {
   "cell_type": "code",
   "execution_count": 54,
   "metadata": {},
   "outputs": [
    {
     "ename": "SyntaxError",
     "evalue": "invalid syntax (<ipython-input-54-96bc77a4e10e>, line 1)",
     "output_type": "error",
     "traceback": [
      "\u001b[0;36m  File \u001b[0;32m\"<ipython-input-54-96bc77a4e10e>\"\u001b[0;36m, line \u001b[0;32m1\u001b[0m\n\u001b[0;31m    Come Back, Little Sheba:\u001b[0m\n\u001b[0m            ^\u001b[0m\n\u001b[0;31mSyntaxError\u001b[0m\u001b[0;31m:\u001b[0m invalid syntax\n"
     ]
    }
   ],
   "source": []
  },
  {
   "cell_type": "code",
   "execution_count": null,
   "metadata": {},
   "outputs": [],
   "source": []
  }
 ],
 "metadata": {
  "kernelspec": {
   "display_name": "Python 3",
   "language": "python",
   "name": "python3"
  },
  "language_info": {
   "codemirror_mode": {
    "name": "ipython",
    "version": 3
   },
   "file_extension": ".py",
   "mimetype": "text/x-python",
   "name": "python",
   "nbconvert_exporter": "python",
   "pygments_lexer": "ipython3",
   "version": "3.6.6"
  }
 },
 "nbformat": 4,
 "nbformat_minor": 2
}
